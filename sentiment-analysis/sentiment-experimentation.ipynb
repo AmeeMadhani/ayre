{
 "cells": [
  {
   "cell_type": "code",
   "execution_count": 5,
   "metadata": {},
   "outputs": [
    {
     "data": {
      "text/plain": [
       "True"
      ]
     },
     "execution_count": 5,
     "metadata": {},
     "output_type": "execute_result"
    }
   ],
   "source": [
    "# entire code is being run on an Ubuntu kernel. \n",
    "# not many QoL libraries are needed.\n",
    "# your mileage may vary.\n",
    "import numpy as np\n",
    "import pandas as pd\n",
    "import matplotlib.pyplot as plt\n",
    "import seaborn as sns\n",
    "\n",
    "# training specific imports\n",
    "from sklearn.preprocessing import StandardScaler, LabelEncoder\n",
    "\n",
    "# AI imports\n",
    "import torch\n",
    "import torchvision\n",
    "\n",
    "# statistics\n",
    "from sklearn.metrics import confusion_matrix, accuracy_score, classification_report\n",
    "from sklearn.metrics import precision_recall_fscore_support, roc_curve\n",
    "\n",
    "# test if GPU acceleration is working\n",
    "torch.cuda.is_available()"
   ]
  },
  {
   "cell_type": "code",
   "execution_count": 2,
   "metadata": {},
   "outputs": [
    {
     "data": {
      "text/html": [
       "<div>\n",
       "<style scoped>\n",
       "    .dataframe tbody tr th:only-of-type {\n",
       "        vertical-align: middle;\n",
       "    }\n",
       "\n",
       "    .dataframe tbody tr th {\n",
       "        vertical-align: top;\n",
       "    }\n",
       "\n",
       "    .dataframe thead th {\n",
       "        text-align: right;\n",
       "    }\n",
       "</style>\n",
       "<table border=\"1\" class=\"dataframe\">\n",
       "  <thead>\n",
       "    <tr style=\"text-align: right;\">\n",
       "      <th></th>\n",
       "      <th>id</th>\n",
       "      <th>filename</th>\n",
       "      <th>A1.Q1</th>\n",
       "      <th>A1.Q2</th>\n",
       "      <th>A1.Q3.1</th>\n",
       "      <th>A1.Q3.2</th>\n",
       "      <th>A1.Q3.3</th>\n",
       "      <th>A1.Q3.4</th>\n",
       "      <th>A1.Q3.5</th>\n",
       "      <th>A1.Q3.6</th>\n",
       "      <th>...</th>\n",
       "      <th>A5.Q4.8</th>\n",
       "      <th>A5.Q4.9</th>\n",
       "      <th>A5.Q4.10</th>\n",
       "      <th>A5.Q5.1</th>\n",
       "      <th>A5.Q5.2</th>\n",
       "      <th>A5.Q5.3</th>\n",
       "      <th>A5.Q5.4</th>\n",
       "      <th>A5.Q5.5</th>\n",
       "      <th>A5.Q5.6</th>\n",
       "      <th>A5.Q5.7</th>\n",
       "    </tr>\n",
       "  </thead>\n",
       "  <tbody>\n",
       "    <tr>\n",
       "      <th>0</th>\n",
       "      <td>052464df-5fdb-428a-9a4a-6036ea023b42</td>\n",
       "      <td>052464df-5fdb-428a-9a4a-6036ea023b42.jpg</td>\n",
       "      <td>4</td>\n",
       "      <td>7</td>\n",
       "      <td>0</td>\n",
       "      <td>0</td>\n",
       "      <td>0</td>\n",
       "      <td>0</td>\n",
       "      <td>1</td>\n",
       "      <td>0</td>\n",
       "      <td>...</td>\n",
       "      <td>0</td>\n",
       "      <td>1</td>\n",
       "      <td>0</td>\n",
       "      <td>1</td>\n",
       "      <td>0</td>\n",
       "      <td>0</td>\n",
       "      <td>0</td>\n",
       "      <td>0</td>\n",
       "      <td>0</td>\n",
       "      <td>0</td>\n",
       "    </tr>\n",
       "    <tr>\n",
       "      <th>1</th>\n",
       "      <td>2ce9b1bc-ee70-4128-85d1-0fd3ac272619</td>\n",
       "      <td>2ce9b1bc-ee70-4128-85d1-0fd3ac272619.jpg</td>\n",
       "      <td>6</td>\n",
       "      <td>5</td>\n",
       "      <td>0</td>\n",
       "      <td>0</td>\n",
       "      <td>0</td>\n",
       "      <td>0</td>\n",
       "      <td>0</td>\n",
       "      <td>0</td>\n",
       "      <td>...</td>\n",
       "      <td>0</td>\n",
       "      <td>0</td>\n",
       "      <td>0</td>\n",
       "      <td>1</td>\n",
       "      <td>0</td>\n",
       "      <td>0</td>\n",
       "      <td>0</td>\n",
       "      <td>0</td>\n",
       "      <td>0</td>\n",
       "      <td>0</td>\n",
       "    </tr>\n",
       "    <tr>\n",
       "      <th>2</th>\n",
       "      <td>2280b9f3-6989-4222-a0d9-ec4bd35d731b</td>\n",
       "      <td>2280b9f3-6989-4222-a0d9-ec4bd35d731b.jpg</td>\n",
       "      <td>7</td>\n",
       "      <td>9</td>\n",
       "      <td>1</td>\n",
       "      <td>0</td>\n",
       "      <td>0</td>\n",
       "      <td>0</td>\n",
       "      <td>0</td>\n",
       "      <td>1</td>\n",
       "      <td>...</td>\n",
       "      <td>0</td>\n",
       "      <td>0</td>\n",
       "      <td>0</td>\n",
       "      <td>0</td>\n",
       "      <td>0</td>\n",
       "      <td>0</td>\n",
       "      <td>0</td>\n",
       "      <td>0</td>\n",
       "      <td>0</td>\n",
       "      <td>1</td>\n",
       "    </tr>\n",
       "    <tr>\n",
       "      <th>3</th>\n",
       "      <td>257a8e84-7738-49e2-9945-7f082bf7ad34</td>\n",
       "      <td>257a8e84-7738-49e2-9945-7f082bf7ad34.jpg</td>\n",
       "      <td>1</td>\n",
       "      <td>5</td>\n",
       "      <td>0</td>\n",
       "      <td>1</td>\n",
       "      <td>0</td>\n",
       "      <td>0</td>\n",
       "      <td>0</td>\n",
       "      <td>0</td>\n",
       "      <td>...</td>\n",
       "      <td>0</td>\n",
       "      <td>0</td>\n",
       "      <td>1</td>\n",
       "      <td>0</td>\n",
       "      <td>0</td>\n",
       "      <td>0</td>\n",
       "      <td>1</td>\n",
       "      <td>0</td>\n",
       "      <td>0</td>\n",
       "      <td>0</td>\n",
       "    </tr>\n",
       "    <tr>\n",
       "      <th>4</th>\n",
       "      <td>3f6b222a-049c-4803-9cbb-5ea734110ed0</td>\n",
       "      <td>3f6b222a-049c-4803-9cbb-5ea734110ed0.jpg</td>\n",
       "      <td>1</td>\n",
       "      <td>9</td>\n",
       "      <td>0</td>\n",
       "      <td>1</td>\n",
       "      <td>1</td>\n",
       "      <td>0</td>\n",
       "      <td>0</td>\n",
       "      <td>0</td>\n",
       "      <td>...</td>\n",
       "      <td>0</td>\n",
       "      <td>1</td>\n",
       "      <td>0</td>\n",
       "      <td>0</td>\n",
       "      <td>0</td>\n",
       "      <td>1</td>\n",
       "      <td>1</td>\n",
       "      <td>0</td>\n",
       "      <td>0</td>\n",
       "      <td>0</td>\n",
       "    </tr>\n",
       "  </tbody>\n",
       "</table>\n",
       "<p>5 rows × 132 columns</p>\n",
       "</div>"
      ],
      "text/plain": [
       "                                     id  \\\n",
       "0  052464df-5fdb-428a-9a4a-6036ea023b42   \n",
       "1  2ce9b1bc-ee70-4128-85d1-0fd3ac272619   \n",
       "2  2280b9f3-6989-4222-a0d9-ec4bd35d731b   \n",
       "3  257a8e84-7738-49e2-9945-7f082bf7ad34   \n",
       "4  3f6b222a-049c-4803-9cbb-5ea734110ed0   \n",
       "\n",
       "                                   filename  A1.Q1  A1.Q2  A1.Q3.1  A1.Q3.2  \\\n",
       "0  052464df-5fdb-428a-9a4a-6036ea023b42.jpg      4      7        0        0   \n",
       "1  2ce9b1bc-ee70-4128-85d1-0fd3ac272619.jpg      6      5        0        0   \n",
       "2  2280b9f3-6989-4222-a0d9-ec4bd35d731b.jpg      7      9        1        0   \n",
       "3  257a8e84-7738-49e2-9945-7f082bf7ad34.jpg      1      5        0        1   \n",
       "4  3f6b222a-049c-4803-9cbb-5ea734110ed0.jpg      1      9        0        1   \n",
       "\n",
       "   A1.Q3.3  A1.Q3.4  A1.Q3.5  A1.Q3.6  ...  A5.Q4.8  A5.Q4.9  A5.Q4.10  \\\n",
       "0        0        0        1        0  ...        0        1         0   \n",
       "1        0        0        0        0  ...        0        0         0   \n",
       "2        0        0        0        1  ...        0        0         0   \n",
       "3        0        0        0        0  ...        0        0         1   \n",
       "4        1        0        0        0  ...        0        1         0   \n",
       "\n",
       "   A5.Q5.1  A5.Q5.2  A5.Q5.3  A5.Q5.4  A5.Q5.5  A5.Q5.6  A5.Q5.7  \n",
       "0        1        0        0        0        0        0        0  \n",
       "1        1        0        0        0        0        0        0  \n",
       "2        0        0        0        0        0        0        1  \n",
       "3        0        0        0        1        0        0        0  \n",
       "4        0        0        1        1        0        0        0  \n",
       "\n",
       "[5 rows x 132 columns]"
      ]
     },
     "execution_count": 2,
     "metadata": {},
     "output_type": "execute_result"
    }
   ],
   "source": [
    "# load dataset annotations file\n",
    "annot = pd.read_csv('./disaster-dataset/annotations.csv', delimiter=';')\n",
    "annot.head()"
   ]
  },
  {
   "cell_type": "code",
   "execution_count": 3,
   "metadata": {},
   "outputs": [
    {
     "data": {
      "text/plain": [
       "True"
      ]
     },
     "execution_count": 3,
     "metadata": {},
     "output_type": "execute_result"
    }
   ],
   "source": [
    "annot.isna().sum().sum() == 0"
   ]
  },
  {
   "cell_type": "markdown",
   "metadata": {},
   "source": [
    "### FIND A WAY TO CONDENSE 132 COLUMNS DOWN"
   ]
  },
  {
   "cell_type": "code",
   "execution_count": 4,
   "metadata": {},
   "outputs": [],
   "source": [
    "questions = np.array(list(set([i[3:] for i in annot.columns[2:]])))"
   ]
  },
  {
   "cell_type": "code",
   "execution_count": 5,
   "metadata": {},
   "outputs": [
    {
     "data": {
      "text/plain": [
       "array(['Q3.5', 'Q3.6', 'Q5.4', 'Q5.3', 'Q4.5', 'Q3.3', 'Q5.7', 'Q4.10',\n",
       "       'Q4.3', 'Q3.1', 'Q4.4', 'Q2', 'Q3.4', 'Q3.7', 'Q1', 'Q4.2', 'Q5.1',\n",
       "       'Q5.2', 'Q3.2', 'Q4.9', 'Q4.6', 'Q5.5', 'Q5.6', 'Q4.7', 'Q4.1',\n",
       "       'Q4.8'], dtype='<U5')"
      ]
     },
     "execution_count": 5,
     "metadata": {},
     "output_type": "execute_result"
    }
   ],
   "source": [
    "questions"
   ]
  }
 ],
 "metadata": {
  "kernelspec": {
   "display_name": "nlp",
   "language": "python",
   "name": "python3"
  },
  "language_info": {
   "codemirror_mode": {
    "name": "ipython",
    "version": 3
   },
   "file_extension": ".py",
   "mimetype": "text/x-python",
   "name": "python",
   "nbconvert_exporter": "python",
   "pygments_lexer": "ipython3",
   "version": "3.10.12"
  },
  "orig_nbformat": 4
 },
 "nbformat": 4,
 "nbformat_minor": 2
}
