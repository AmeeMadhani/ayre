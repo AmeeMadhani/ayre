{
 "cells": [
  {
   "cell_type": "markdown",
   "metadata": {},
   "source": [
    "# Hopefully final notebook for semantic segmentation component"
   ]
  },
  {
   "cell_type": "code",
   "execution_count": 1,
   "metadata": {},
   "outputs": [
    {
     "data": {
      "text/plain": [
       "True"
      ]
     },
     "execution_count": 1,
     "metadata": {},
     "output_type": "execute_result"
    }
   ],
   "source": [
    "# entire code is being run on an Ubuntu kernel. \n",
    "# not many QoL libraries are needed.\n",
    "# your mileage may vary.\n",
    "import os\n",
    "import numpy as np\n",
    "import pandas as pd\n",
    "import matplotlib.pyplot as plt\n",
    "import datetime\n",
    "from tqdm import tqdm\n",
    "%matplotlib inline\n",
    "\n",
    "# dataset imports\n",
    "from torch.utils.data import Dataset, DataLoader\n",
    "from torchvision.io import read_image\n",
    "from PIL import Image\n",
    "# from torchvision.transforms import ToTensor, Resize, ToPILImage, Lambda\n",
    "import torchvision.transforms as transforms\n",
    "from torchvision.transforms.functional import resize\n",
    "\n",
    "# AI imports\n",
    "from torch.nn import ConvTranspose2d, Conv2d, MaxPool2d, Module, ModuleList\n",
    "from torch.nn import Sequential, Softmax, CrossEntropyLoss, ReLU, BatchNorm2d\n",
    "from torch.nn import functional as F\n",
    "from torchvision.utils import make_grid\n",
    "import torch\n",
    "\n",
    "# statistics\n",
    "from torchinfo import summary\n",
    "import torchmetrics as TM\n",
    "\n",
    "# test if GPU acceleration is working\n",
    "torch.cuda.is_available()"
   ]
  },
  {
   "cell_type": "markdown",
   "metadata": {},
   "source": [
    "## Standard Helper Functions"
   ]
  },
  {
   "cell_type": "code",
   "execution_count": 2,
   "metadata": {},
   "outputs": [
    {
     "name": "stdout",
     "output_type": "stream",
     "text": [
      "CUDA: True\n"
     ]
    }
   ],
   "source": [
    "def save_model_checkpoint(model, cp_name):\n",
    "    torch.save(model.state_dict(), os.path.join(\"./models/\", cp_name))\n",
    "\n",
    "\n",
    "def get_device():\n",
    "    if torch.cuda.is_available():\n",
    "        return torch.device(\"cuda\")\n",
    "    else:\n",
    "        return torch.device(\"cpu\")\n",
    "\n",
    "\n",
    "# Load model from saved checkpoint\n",
    "def load_model_from_checkpoint(model, ckp_path):\n",
    "    return model.load_state_dict(\n",
    "        torch.load(\n",
    "            ckp_path,\n",
    "            map_location=get_device(),\n",
    "        )\n",
    "    )\n",
    "\n",
    "\n",
    "# Send the Tensor or Model (input argument x) to the right device\n",
    "# for this notebook. i.e. if GPU is enabled, then send to GPU/CUDA\n",
    "# otherwise send to CPU.\n",
    "def to_device(x):\n",
    "    if torch.cuda.is_available():\n",
    "        return x.cuda()\n",
    "    else:\n",
    "        return x.cpu()\n",
    "\n",
    "\n",
    "def get_model_parameters(m):\n",
    "    total_params = sum(param.numel() for param in m.parameters())\n",
    "    return total_params\n",
    "\n",
    "\n",
    "def print_model_parameters(m):\n",
    "    num_model_parameters = get_model_parameters(m)\n",
    "    print(f\"The Model has {num_model_parameters/1e6:.2f}M parameters\")\n",
    "\n",
    "\n",
    "# end if\n",
    "\n",
    "\n",
    "def close_figures():\n",
    "    while len(plt.get_fignums()) > 0:\n",
    "        plt.close()\n",
    "\n",
    "\n",
    "t2img = transforms.ToPILImage()\n",
    "\n",
    "# Validation: Check if CUDA is available\n",
    "print(f\"CUDA: {torch.cuda.is_available()}\")"
   ]
  },
  {
   "cell_type": "markdown",
   "metadata": {},
   "source": [
    "## Dataset Loading and Initialization"
   ]
  },
  {
   "cell_type": "code",
   "execution_count": 3,
   "metadata": {},
   "outputs": [],
   "source": [
    "# load in the ade20k pickle file to examine it.\n",
    "root = \"./ade20k/ADEChallengeData2016/\"\n",
    "images_dir = f\"{root}/images\"\n",
    "annotations_dir = f\"{root}/annotations\"\n",
    "# with open(root + 'index_ade20k.pkl', 'rb') as f:\n",
    "#     index_ade20k = pickle.load(f)"
   ]
  },
  {
   "cell_type": "code",
   "execution_count": 4,
   "metadata": {},
   "outputs": [
    {
     "name": "stdout",
     "output_type": "stream",
     "text": [
      "20210\n",
      "20210\n"
     ]
    }
   ],
   "source": [
    "images_training_dir = f\"{images_dir}/training\"\n",
    "annotations_training_dir = f\"{annotations_dir}/training\"\n",
    "\n",
    "images_validation_dir = f\"{images_dir}/validation\"\n",
    "annotations_validation_dir = f\"{annotations_dir}/validation\"\n",
    "\n",
    "training_images = sorted(os.listdir(images_training_dir))\n",
    "print(len(training_images))\n",
    "\n",
    "training_annotations = sorted(os.listdir(annotations_training_dir))\n",
    "print(len(training_annotations))"
   ]
  },
  {
   "cell_type": "code",
   "execution_count": 5,
   "metadata": {},
   "outputs": [],
   "source": [
    "class ADE20KDataset(Dataset):\n",
    "    def __init__(self, images_dir, annotations_dir, transforms=None):\n",
    "        self.images_dir = images_dir\n",
    "        self.annotations_dir = annotations_dir\n",
    "        self.transforms = transforms\n",
    "        self.image_files = sorted(os.listdir(images_dir))\n",
    "        self.mask_files = sorted(os.listdir(annotations_dir))\n",
    "\n",
    "    def __len__(self):\n",
    "        return len(self.image_files)\n",
    "\n",
    "    def __getitem__(self, idx):\n",
    "        image_filename = self.image_files[idx]\n",
    "\n",
    "        img_name = os.path.join(self.images_dir, image_filename)\n",
    "        image = Image.open(img_name).convert(\"RGB\")\n",
    "\n",
    "        # Generate the mask filename based on the image filename\n",
    "        mask_filename = image_filename.replace(\".jpg\", \".png\")\n",
    "        mask_name = os.path.join(self.annotations_dir, mask_filename)\n",
    "\n",
    "        mask = Image.open(mask_name)\n",
    "\n",
    "        if self.transforms:\n",
    "            image = self.transforms(image)\n",
    "            mask = self.transforms(mask)\n",
    "\n",
    "        return image, mask"
   ]
  },
  {
   "cell_type": "markdown",
   "metadata": {},
   "source": [
    "### DETOUR 1: Find a good size to scale all images to for all models moving forward"
   ]
  },
  {
   "cell_type": "code",
   "execution_count": 6,
   "metadata": {
    "slideshow": {
     "slide_type": "skip"
    }
   },
   "outputs": [],
   "source": [
    "# This detour is no longer being run because it takes too much space,\n",
    "# and the result out of it is no longer valid (due to various memory issues),\n",
    "if False:\n",
    "    img_h, img_w = np.zeros((len(training_images))), np.zeros((len(training_images)))\n",
    "    for idx in range(len(training_images)):\n",
    "        timg = read_image(images_training_dir + \"/\" + training_images[idx])\n",
    "        img_h[idx] = timg.shape[1]\n",
    "        img_w[idx] = timg.shape[2]\n",
    "        \n",
    "    image_size = pd.DataFrame({\"H\": img_h, \"W\": img_w}, dtype=\"int\")\n",
    "    image_size[\"ratio\"] = image_size[\"H\"] / image_size[\"W\"]\n",
    "    image_size.hist()"
   ]
  },
  {
   "cell_type": "code",
   "execution_count": 7,
   "metadata": {
    "slideshow": {
     "slide_type": "skip"
    }
   },
   "outputs": [],
   "source": [
    "# Let's see how many samples we will be alienating from the dataset\n",
    "# image_size[image_size[\"H\"] > 768].shape[0] + image_size[image_size[\"W\"] > 768].shape[0]"
   ]
  },
  {
   "cell_type": "markdown",
   "metadata": {},
   "source": [
    "#### /DETOUR 1"
   ]
  },
  {
   "cell_type": "markdown",
   "metadata": {},
   "source": [
    "### Define custom parameters and create data loaders"
   ]
  },
  {
   "cell_type": "code",
   "execution_count": 8,
   "metadata": {},
   "outputs": [],
   "source": [
    "train_batch = 8\n",
    "test_batch = 2\n",
    "target_size = 384\n",
    "\n",
    "transform = transforms.Compose(\n",
    "    [\n",
    "        # transforms.ToPILImage(),\n",
    "        transforms.Resize((target_size)),\n",
    "        # add padding thing here based on the largest image ig\n",
    "        transforms.ToTensor(),\n",
    "    ]\n",
    ")\n",
    "\n",
    "\n",
    "def irregular_image_collate(batch):\n",
    "    inputs, targets = zip(*batch)\n",
    "\n",
    "    # Calculate the maximum height and width in the batch\n",
    "    max_height_input = max(img.size(1) for img in inputs)\n",
    "    max_width_input = max(img.size(2) for img in inputs)\n",
    "\n",
    "    max_height_target = max(img.size(1) for img in targets)\n",
    "    max_width_target = max(img.size(2) for img in targets)\n",
    "\n",
    "    # Calculate the maximum height and width across inputs and targets\n",
    "    max_height = max(max_height_input, max_height_target)\n",
    "    max_width = max(max_width_input, max_width_target)\n",
    "\n",
    "    # Pad each input and target image to the maximum size\n",
    "    padded_inputs = [\n",
    "        F.pad(img, (0, max_width - img.size(2), 0, max_height - img.size(1)))\n",
    "        for img in inputs\n",
    "    ]\n",
    "    padded_targets = [\n",
    "        F.pad(img, (0, max_width - img.size(2), 0, max_height - img.size(1)))\n",
    "        for img in targets\n",
    "    ]\n",
    "\n",
    "    # Stack the padded inputs and targets to create the batch\n",
    "    padded_inputs = torch.stack(padded_inputs, dim=0)\n",
    "    padded_targets = torch.stack(padded_targets, dim=0)\n",
    "\n",
    "    return padded_inputs, padded_targets"
   ]
  },
  {
   "cell_type": "code",
   "execution_count": 9,
   "metadata": {},
   "outputs": [],
   "source": [
    "train_dataset = ADE20KDataset(\n",
    "    images_training_dir, annotations_training_dir, transforms=transform\n",
    ")\n",
    "train_loader = DataLoader(\n",
    "    train_dataset, batch_size=8, shuffle=True, collate_fn=irregular_image_collate\n",
    ")\n",
    "\n",
    "val_dataset = ADE20KDataset(\n",
    "    images_validation_dir, annotations_validation_dir, transforms=transform\n",
    ")\n",
    "val_loader = DataLoader(\n",
    "    val_dataset, batch_size=8, shuffle=False, collate_fn=irregular_image_collate\n",
    ")"
   ]
  },
  {
   "cell_type": "markdown",
   "metadata": {},
   "source": [
    "## Test Dataloader"
   ]
  },
  {
   "cell_type": "code",
   "execution_count": 10,
   "metadata": {},
   "outputs": [],
   "source": [
    "def visualize_image_mask(image, mask):\n",
    "    plt.subplot(1, 2, 1)\n",
    "    plt.xticks([])\n",
    "    plt.yticks([])\n",
    "    plt.imshow(\n",
    "        image.permute(1, 2, 0)\n",
    "    )  # for visualization we have to transpose back to HWC\n",
    "    plt.subplot(1, 2, 2)\n",
    "    # Turn off tick labels\n",
    "    plt.xticks([])\n",
    "    plt.yticks([])\n",
    "    plt.imshow(\n",
    "        mask.permute(1, 2, 0)\n",
    "    )  # for visualization we have to remove 3rd dimension of mask\n",
    "    plt.show()"
   ]
  },
  {
   "cell_type": "code",
   "execution_count": 11,
   "metadata": {},
   "outputs": [
    {
     "name": "stdout",
     "output_type": "stream",
     "text": [
      "torch.Size([3, 384, 512])\n",
      "torch.Size([1, 384, 512])\n"
     ]
    }
   ],
   "source": [
    "image = train_dataset[0][0]\n",
    "mask = train_dataset[0][1]\n",
    "print(image.shape)\n",
    "print(mask.shape)"
   ]
  },
  {
   "cell_type": "code",
   "execution_count": 12,
   "metadata": {},
   "outputs": [
    {
     "data": {
      "image/png": "[encoded data removed]",
      "text/plain": [
       "<Figure size 640x480 with 2 Axes>"
      ]
     },
     "metadata": {},
     "output_type": "display_data"
    }
   ],
   "source": [
    "visualize_image_mask(image, mask)"
   ]
  },
  {
   "cell_type": "markdown",
   "metadata": {},
   "source": [
    "## Everything is in order, time to build the model and train it!"
   ]
  },
  {
   "cell_type": "markdown",
   "metadata": {},
   "source": [
    "## Model Definition"
   ]
  },
  {
   "cell_type": "code",
   "execution_count": 13,
   "metadata": {},
   "outputs": [],
   "source": [
    "class DoubleConv(Module):\n",
    "    def __init__(self, in_channels, out_channels):\n",
    "        super(DoubleConv, self).__init__()\n",
    "        self.conv = Sequential(\n",
    "            Conv2d(in_channels, out_channels, 3, 1, 1, bias=False),\n",
    "            BatchNorm2d(out_channels),\n",
    "            ReLU(inplace=True),\n",
    "            Conv2d(out_channels, out_channels, 3, 1, 1, bias=False),\n",
    "            BatchNorm2d(out_channels),\n",
    "            ReLU(inplace=True),\n",
    "        )\n",
    "\n",
    "    def forward(self, x):\n",
    "        return self.conv(x)\n",
    "\n",
    "class UNet(Module):\n",
    "    def __init__(\n",
    "            self, in_channels=3, out_channels=1, features=[64, 128, 256],\n",
    "    ):\n",
    "        super(UNet, self).__init__()\n",
    "        self.ups = ModuleList()\n",
    "        self.downs = ModuleList()\n",
    "        self.pool = MaxPool2d(kernel_size=2, stride=2)\n",
    "\n",
    "        # Down part of UNET\n",
    "        for feature in features:\n",
    "            self.downs.append(DoubleConv(in_channels, feature))\n",
    "            in_channels = feature\n",
    "\n",
    "        # Up part of UNET\n",
    "        for feature in reversed(features):\n",
    "            self.ups.append(\n",
    "                ConvTranspose2d(\n",
    "                    feature*2, feature, kernel_size=2, stride=2,\n",
    "                )\n",
    "            )\n",
    "            self.ups.append(DoubleConv(feature*2, feature))\n",
    "\n",
    "        self.bottleneck = DoubleConv(features[-1], features[-1]*2)\n",
    "        self.final_conv = Conv2d(features[0], out_channels, kernel_size=1)\n",
    "\n",
    "    def forward(self, x):\n",
    "        skip_connections = []\n",
    "\n",
    "        for down in self.downs:\n",
    "            x = down(x)\n",
    "            skip_connections.append(x)\n",
    "            x = self.pool(x)\n",
    "\n",
    "        x = self.bottleneck(x)\n",
    "        skip_connections = skip_connections[::-1]\n",
    "\n",
    "        for idx in range(0, len(self.ups), 2):\n",
    "            x = self.ups[idx](x)\n",
    "            skip_connection = skip_connections[idx//2]\n",
    "\n",
    "            if x.shape != skip_connection.shape:\n",
    "                x = resize(x, size=skip_connection.shape[2:], antialias=True)\n",
    "\n",
    "            concat_skip = torch.cat((skip_connection, x), dim=1)\n",
    "            x = self.ups[idx+1](concat_skip)\n",
    "\n",
    "        return self.final_conv(x)"
   ]
  },
  {
   "cell_type": "code",
   "execution_count": 14,
   "metadata": {},
   "outputs": [],
   "source": [
    "model = UNet(in_channels=3, out_channels=150).float()\n",
    "if torch.cuda.is_available():\n",
    "    model.cuda()"
   ]
  },
  {
   "cell_type": "code",
   "execution_count": 15,
   "metadata": {},
   "outputs": [
    {
     "data": {
      "text/plain": [
       "==========================================================================================\n",
       "Layer (type:depth-idx)                   Output Shape              Param #\n",
       "==========================================================================================\n",
       "UNet                                     [8, 150, 384, 384]        --\n",
       "├─ModuleList: 1-5                        --                        (recursive)\n",
       "│    └─DoubleConv: 2-1                   [8, 64, 384, 384]         --\n",
       "│    │    └─Sequential: 3-1              [8, 64, 384, 384]         38,848\n",
       "├─MaxPool2d: 1-2                         [8, 64, 192, 192]         --\n",
       "├─ModuleList: 1-5                        --                        (recursive)\n",
       "│    └─DoubleConv: 2-2                   [8, 128, 192, 192]        --\n",
       "│    │    └─Sequential: 3-2              [8, 128, 192, 192]        221,696\n",
       "├─MaxPool2d: 1-4                         [8, 128, 96, 96]          --\n",
       "├─ModuleList: 1-5                        --                        (recursive)\n",
       "│    └─DoubleConv: 2-3                   [8, 256, 96, 96]          --\n",
       "│    │    └─Sequential: 3-3              [8, 256, 96, 96]          885,760\n",
       "├─MaxPool2d: 1-6                         [8, 256, 48, 48]          --\n",
       "├─DoubleConv: 1-7                        [8, 512, 48, 48]          --\n",
       "│    └─Sequential: 2-4                   [8, 512, 48, 48]          --\n",
       "│    │    └─Conv2d: 3-4                  [8, 512, 48, 48]          1,179,648\n",
       "│    │    └─BatchNorm2d: 3-5             [8, 512, 48, 48]          1,024\n",
       "│    │    └─ReLU: 3-6                    [8, 512, 48, 48]          --\n",
       "│    │    └─Conv2d: 3-7                  [8, 512, 48, 48]          2,359,296\n",
       "│    │    └─BatchNorm2d: 3-8             [8, 512, 48, 48]          1,024\n",
       "│    │    └─ReLU: 3-9                    [8, 512, 48, 48]          --\n",
       "├─ModuleList: 1-8                        --                        --\n",
       "│    └─ConvTranspose2d: 2-5              [8, 256, 96, 96]          524,544\n",
       "│    └─DoubleConv: 2-6                   [8, 256, 96, 96]          --\n",
       "│    │    └─Sequential: 3-10             [8, 256, 96, 96]          1,770,496\n",
       "│    └─ConvTranspose2d: 2-7              [8, 128, 192, 192]        131,200\n",
       "│    └─DoubleConv: 2-8                   [8, 128, 192, 192]        --\n",
       "│    │    └─Sequential: 3-11             [8, 128, 192, 192]        442,880\n",
       "│    └─ConvTranspose2d: 2-9              [8, 64, 384, 384]         32,832\n",
       "│    └─DoubleConv: 2-10                  [8, 64, 384, 384]         --\n",
       "│    │    └─Sequential: 3-12             [8, 64, 384, 384]         110,848\n",
       "├─Conv2d: 1-9                            [8, 150, 384, 384]        9,750\n",
       "==========================================================================================\n",
       "Total params: 7,709,846\n",
       "Trainable params: 7,709,846\n",
       "Non-trainable params: 0\n",
       "Total mult-adds (G): 760.19\n",
       "==========================================================================================\n",
       "Input size (MB): 14.16\n",
       "Forward/backward pass size (MB): 11230.25\n",
       "Params size (MB): 30.84\n",
       "Estimated Total Size (MB): 11275.24\n",
       "=========================================================================================="
      ]
     },
     "execution_count": 15,
     "metadata": {},
     "output_type": "execute_result"
    }
   ],
   "source": [
    "summary(model, input_size=(train_batch, 3, target_size, target_size))"
   ]
  },
  {
   "cell_type": "markdown",
   "metadata": {},
   "source": [
    "### IoU Loss Functions"
   ]
  },
  {
   "cell_type": "code",
   "execution_count": 16,
   "metadata": {},
   "outputs": [
    {
     "data": {
      "text/plain": [
       "tensor(5.8509, device='cuda:0', grad_fn=<NegBackward0>)"
      ]
     },
     "execution_count": 16,
     "metadata": {},
     "output_type": "execute_result"
    }
   ],
   "source": [
    "# Define a custom IoU Metric for validating the model.\n",
    "def IoUMetric(pred, gt, softmax=False):\n",
    "    # Run softmax if input is logits.\n",
    "    if softmax is True:\n",
    "        pred = Softmax(dim=1)(pred).to(\"cuda\")\n",
    "\n",
    "    # Add the one-hot encoded masks for all 150 output channels\n",
    "    # (for all the classes) to a tensor named 'gt' (ground truth).\n",
    "    gt = torch.cat([(gt == i) for i in range(150)], dim=1).to(\"cuda\")\n",
    "\n",
    "    intersection = gt * pred\n",
    "    union = gt + pred - intersection\n",
    "\n",
    "    # Compute the sum over all the dimensions except for the batch dimension.\n",
    "    iou = (intersection.sum(dim=(1, 2, 3)) + 0.001) / (union.sum(dim=(1, 2, 3)) + 0.001)\n",
    "\n",
    "    # Compute the mean over the batch dimension.\n",
    "    return iou.mean()\n",
    "\n",
    "\n",
    "class IoULoss(Module):\n",
    "    def __init__(self, softmax=False):\n",
    "        super().__init__()\n",
    "        self.softmax = softmax\n",
    "\n",
    "    # pred => Predictions (logits, B, 3, H, W)\n",
    "    # gt => Ground Truth Labales (B, 1, H, W)\n",
    "    def forward(self, pred, gt):\n",
    "        # return 1.0 - IoUMetric(pred, gt, self.softmax)\n",
    "        # Compute the negative log loss for stable training.\n",
    "        return -(IoUMetric(pred, gt, self.softmax).log())\n",
    "\n",
    "\n",
    "def test_custom_iou_loss():\n",
    "    #               B, C, H, W\n",
    "    x = torch.rand((2, 150, 2, 2), requires_grad=True)\n",
    "    y = torch.randint(0, 3, (2, 1, 2, 2), dtype=torch.long)\n",
    "    z = IoULoss(softmax=True)(x, y)\n",
    "    return z\n",
    "\n",
    "\n",
    "test_custom_iou_loss()"
   ]
  },
  {
   "cell_type": "markdown",
   "metadata": {},
   "source": [
    "## Model Training"
   ]
  },
  {
   "cell_type": "code",
   "execution_count": 17,
   "metadata": {},
   "outputs": [],
   "source": [
    "# Train the model for a single epoch\n",
    "def train_model(model, loader, optimizer, cel=True, epoch=1):\n",
    "    loop = tqdm(loader)\n",
    "    to_device(model.train())\n",
    "    if cel:\n",
    "        criterion = CrossEntropyLoss(reduction=\"mean\")\n",
    "    else:\n",
    "        criterion = IoULoss(softmax=True)\n",
    "\n",
    "    running_loss = 0.0\n",
    "    running_samples = 0\n",
    "\n",
    "    inputs, targets = next(iter(loader))\n",
    "    optimizer.zero_grad()\n",
    "    with torch.cuda.amp.autocast():\n",
    "        inputs = inputs.half().to(\"cuda\")\n",
    "        predictions = model(inputs)\n",
    "        if cel:\n",
    "            targets = targets.squeeze(dim=1)\n",
    "        loss = criterion(predictions, targets)\n",
    "\n",
    "        # The ground truth labels have a channel dimension (NCHW).\n",
    "        # We need to remove it before passing it into\n",
    "        # CrossEntropyLoss so that it has shape (NHW) and each element\n",
    "        # is a value representing the class of the pixel.\n",
    "        loss.backward()\n",
    "        optimizer.step()\n",
    "\n",
    "        running_samples += targets.size(0)\n",
    "        running_loss += loss.item()\n",
    "\n",
    "    print(\n",
    "        \"Trained {} samples, Loss: {:.4f}\".format(\n",
    "            running_samples,\n",
    "            running_loss / (epoch + 1),\n",
    "        )\n",
    "    )\n",
    "    loop.set_postfix(loss=loss.item())\n",
    "    del inputs, targets, outputs, loss"
   ]
  },
  {
   "cell_type": "markdown",
   "metadata": {},
   "source": [
    "### Helper Functions"
   ]
  },
  {
   "cell_type": "code",
   "execution_count": 18,
   "metadata": {},
   "outputs": [],
   "source": [
    "def prediction_accuracy(ground_truth_labels, predicted_labels):\n",
    "    eq = ground_truth_labels == predicted_labels\n",
    "    return eq.sum().item() / predicted_labels.numel()\n",
    "\n",
    "\n",
    "def print_test_dataset_masks(\n",
    "    model, test_targets, test_labels, epoch, save_path, show_plot\n",
    "):\n",
    "    to_device(model.eval())\n",
    "    predictions = model(to_device(test_targets))\n",
    "    test_labels = to_device(test_labels)\n",
    "    # print(\"Predictions Shape: {}\".format(predictions.shape))\n",
    "    pred = Softmax(dim=1)(predictions)\n",
    "\n",
    "    pred_labels = pred.argmax(dim=1)\n",
    "    # Add a value 1 dimension at dim=1\n",
    "    pred_labels = pred_labels.unsqueeze(1)\n",
    "    # print(\"pred_labels.shape: {}\".format(pred_labels.shape))\n",
    "    pred_mask = pred_labels.to(torch.float)\n",
    "\n",
    "    # accuracy = prediction_accuracy(test_pets_labels, pred_labels)\n",
    "    iou = to_device(TM.classification.MulticlassJaccardIndex(150, average=\"micro\"))\n",
    "    iou_accuracy = iou(pred_mask, test_labels)\n",
    "    pixel_metric = to_device(TM.classification.MulticlassAccuracy(150, average=\"micro\"))\n",
    "    pixel_accuracy = pixel_metric(pred_labels, test_labels)\n",
    "    custom_iou = IoUMetric(pred, test_labels)\n",
    "    title = f\"Epoch: {epoch:02d}, Accuracy[Pixel: {pixel_accuracy:.4f}, IoU: {iou_accuracy:.4f}, Custom IoU: {custom_iou:.4f}]\"\n",
    "    print(title)\n",
    "\n",
    "    # Close all previously open figures.\n",
    "    close_figures()\n",
    "\n",
    "    fig = plt.figure(figsize=(10, 8))\n",
    "    fig.suptitle(title, fontsize=12)\n",
    "\n",
    "    fig.add_subplot(3, 1, 1)\n",
    "    plt.imshow(t2img(make_grid(test_targets, nrow=7)))\n",
    "    plt.axis(\"off\")\n",
    "    plt.title(\"Targets\")\n",
    "\n",
    "    fig.add_subplot(3, 1, 2)\n",
    "    plt.imshow(t2img(make_grid(test_labels.float() / 2.0, nrow=7)))\n",
    "    plt.axis(\"off\")\n",
    "    plt.title(\"Ground Truth Labels\")\n",
    "\n",
    "    fig.add_subplot(3, 1, 3)\n",
    "    plt.imshow(t2img(make_grid(pred_mask / 2.0, nrow=7)))\n",
    "    plt.axis(\"off\")\n",
    "    plt.title(\"Predicted Labels\")\n",
    "\n",
    "    if save_path is not None:\n",
    "        plt.savefig(\n",
    "            os.path.join(save_path, f\"epoch_{epoch:02}.png\"),\n",
    "            format=\"png\",\n",
    "            bbox_inches=\"tight\",\n",
    "            pad_inches=0.4,\n",
    "        )\n",
    "\n",
    "    if show_plot is False:\n",
    "        close_figures()\n",
    "    else:\n",
    "        plt.show()"
   ]
  },
  {
   "cell_type": "code",
   "execution_count": 19,
   "metadata": {},
   "outputs": [],
   "source": [
    "def test_dataset_accuracy(model, loader):\n",
    "    model.eval()\n",
    "    iou = TM.classification.MulticlassJaccardIndex(150, average=\"micro\")\n",
    "    pixel_metric = TM.classification.MulticlassAccuracy(150, average=\"micro\")\n",
    "\n",
    "    iou_accuracies = []\n",
    "    pixel_accuracies = []\n",
    "    custom_iou_accuracies = []\n",
    "\n",
    "    print_model_parameters(model)\n",
    "\n",
    "    inputs, targets = next(iter((loader, 0)))\n",
    "    predictions = model(inputs)\n",
    "    print(predictions[0, 1, :, :])\n",
    "\n",
    "    pred_probabilities = Softmax(dim=1)(predictions)\n",
    "    pred_labels = predictions.argmax(dim=1)\n",
    "\n",
    "    # Add a value 1 dimension at dim=1\n",
    "    pred_labels = pred_labels.unsqueeze(1)\n",
    "    # print(\"pred_labels.shape: {}\".format(pred_labels.shape))\n",
    "    pred_mask = pred_labels.to(torch.float)\n",
    "\n",
    "    iou_accuracy = iou(pred_mask, targets)\n",
    "    # pixel_accuracy = pixel_metric(pred_mask, targets)\n",
    "    pixel_accuracy = pixel_metric(pred_labels, targets)\n",
    "    custom_iou = IoUMetric(pred_probabilities, targets)\n",
    "    iou_accuracies.append(iou_accuracy.item())\n",
    "    pixel_accuracies.append(pixel_accuracy.item())\n",
    "    custom_iou_accuracies.append(custom_iou.item())\n",
    "\n",
    "    del inputs\n",
    "    del targets\n",
    "    del predictions\n",
    "\n",
    "    iou_tensor = torch.FloatTensor(iou_accuracies)\n",
    "    pixel_tensor = torch.FloatTensor(pixel_accuracies)\n",
    "    custom_iou_tensor = torch.FloatTensor(custom_iou_accuracies)\n",
    "\n",
    "    print(\"Test Dataset Accuracy\")\n",
    "    print(\n",
    "        f\"Pixel Accuracy: {pixel_tensor.mean():.4f}, IoU Accuracy: {iou_tensor.mean():.4f}, Custom IoU Accuracy: {custom_iou_tensor.mean():.4f}\"\n",
    "    )"
   ]
  },
  {
   "cell_type": "markdown",
   "metadata": {},
   "source": [
    "### DETOUR 2: A little Sanity check"
   ]
  },
  {
   "cell_type": "code",
   "execution_count": 24,
   "metadata": {},
   "outputs": [
    {
     "ename": "OutOfMemoryError",
     "evalue": "CUDA out of memory. Tried to allocate 324.00 MiB (GPU 0; 8.00 GiB total capacity; 21.82 GiB already allocated; 0 bytes free; 22.43 GiB reserved in total by PyTorch) If reserved memory is >> allocated memory try setting max_split_size_mb to avoid fragmentation.  See documentation for Memory Management and PYTORCH_CUDA_ALLOC_CONF",
     "output_type": "error",
     "traceback": [
      "\u001b[0;31m---------------------------------------------------------------------------\u001b[0m",
      "\u001b[0;31mOutOfMemoryError\u001b[0m                          Traceback (most recent call last)",
      "\u001b[1;32m/mnt/m/Code/VSCode/ayre/semantic-segmentation/segmentation-ai-experimentation.ipynb Cell 33\u001b[0m line \u001b[0;36m5\n\u001b[1;32m      <a href='vscode-notebook-cell://wsl%2Bubuntu/mnt/m/Code/VSCode/ayre/semantic-segmentation/segmentation-ai-experimentation.ipynb#X51sdnNjb2RlLXJlbW90ZQ%3D%3D?line=2'>3</a>\u001b[0m os\u001b[39m.\u001b[39mmakedirs(save_path, exist_ok\u001b[39m=\u001b[39m\u001b[39mTrue\u001b[39;00m)\n\u001b[1;32m      <a href='vscode-notebook-cell://wsl%2Bubuntu/mnt/m/Code/VSCode/ayre/semantic-segmentation/segmentation-ai-experimentation.ipynb#X51sdnNjb2RlLXJlbW90ZQ%3D%3D?line=3'>4</a>\u001b[0m train_x, train_y \u001b[39m=\u001b[39m \u001b[39mnext\u001b[39m(\u001b[39miter\u001b[39m(train_loader))\n\u001b[0;32m----> <a href='vscode-notebook-cell://wsl%2Bubuntu/mnt/m/Code/VSCode/ayre/semantic-segmentation/segmentation-ai-experimentation.ipynb#X51sdnNjb2RlLXJlbW90ZQ%3D%3D?line=4'>5</a>\u001b[0m print_test_dataset_masks(\n\u001b[1;32m      <a href='vscode-notebook-cell://wsl%2Bubuntu/mnt/m/Code/VSCode/ayre/semantic-segmentation/segmentation-ai-experimentation.ipynb#X51sdnNjb2RlLXJlbW90ZQ%3D%3D?line=5'>6</a>\u001b[0m     model, train_x, train_y, epoch\u001b[39m=\u001b[39;49m\u001b[39m0\u001b[39;49m, save_path\u001b[39m=\u001b[39;49m\u001b[39mNone\u001b[39;49;00m, show_plot\u001b[39m=\u001b[39;49m\u001b[39mTrue\u001b[39;49;00m\n\u001b[1;32m      <a href='vscode-notebook-cell://wsl%2Bubuntu/mnt/m/Code/VSCode/ayre/semantic-segmentation/segmentation-ai-experimentation.ipynb#X51sdnNjb2RlLXJlbW90ZQ%3D%3D?line=6'>7</a>\u001b[0m )\n",
      "\u001b[1;32m/mnt/m/Code/VSCode/ayre/semantic-segmentation/segmentation-ai-experimentation.ipynb Cell 33\u001b[0m line \u001b[0;36m1\n\u001b[1;32m      <a href='vscode-notebook-cell://wsl%2Bubuntu/mnt/m/Code/VSCode/ayre/semantic-segmentation/segmentation-ai-experimentation.ipynb#X51sdnNjb2RlLXJlbW90ZQ%3D%3D?line=5'>6</a>\u001b[0m \u001b[39mdef\u001b[39;00m \u001b[39mprint_test_dataset_masks\u001b[39m(\n\u001b[1;32m      <a href='vscode-notebook-cell://wsl%2Bubuntu/mnt/m/Code/VSCode/ayre/semantic-segmentation/segmentation-ai-experimentation.ipynb#X51sdnNjb2RlLXJlbW90ZQ%3D%3D?line=6'>7</a>\u001b[0m     model, test_targets, test_labels, epoch, save_path, show_plot\n\u001b[1;32m      <a href='vscode-notebook-cell://wsl%2Bubuntu/mnt/m/Code/VSCode/ayre/semantic-segmentation/segmentation-ai-experimentation.ipynb#X51sdnNjb2RlLXJlbW90ZQ%3D%3D?line=7'>8</a>\u001b[0m ):\n\u001b[1;32m      <a href='vscode-notebook-cell://wsl%2Bubuntu/mnt/m/Code/VSCode/ayre/semantic-segmentation/segmentation-ai-experimentation.ipynb#X51sdnNjb2RlLXJlbW90ZQ%3D%3D?line=8'>9</a>\u001b[0m     to_device(model\u001b[39m.\u001b[39meval())\n\u001b[0;32m---> <a href='vscode-notebook-cell://wsl%2Bubuntu/mnt/m/Code/VSCode/ayre/semantic-segmentation/segmentation-ai-experimentation.ipynb#X51sdnNjb2RlLXJlbW90ZQ%3D%3D?line=9'>10</a>\u001b[0m     predictions \u001b[39m=\u001b[39m model(to_device(test_targets))\n\u001b[1;32m     <a href='vscode-notebook-cell://wsl%2Bubuntu/mnt/m/Code/VSCode/ayre/semantic-segmentation/segmentation-ai-experimentation.ipynb#X51sdnNjb2RlLXJlbW90ZQ%3D%3D?line=10'>11</a>\u001b[0m     test_labels \u001b[39m=\u001b[39m to_device(test_labels)\n\u001b[1;32m     <a href='vscode-notebook-cell://wsl%2Bubuntu/mnt/m/Code/VSCode/ayre/semantic-segmentation/segmentation-ai-experimentation.ipynb#X51sdnNjb2RlLXJlbW90ZQ%3D%3D?line=11'>12</a>\u001b[0m     \u001b[39m# print(\"Predictions Shape: {}\".format(predictions.shape))\u001b[39;00m\n",
      "File \u001b[0;32m~/miniconda3/envs/nlp/lib/python3.10/site-packages/torch/nn/modules/module.py:1501\u001b[0m, in \u001b[0;36mModule._call_impl\u001b[0;34m(self, *args, **kwargs)\u001b[0m\n\u001b[1;32m   1496\u001b[0m \u001b[39m# If we don't have any hooks, we want to skip the rest of the logic in\u001b[39;00m\n\u001b[1;32m   1497\u001b[0m \u001b[39m# this function, and just call forward.\u001b[39;00m\n\u001b[1;32m   1498\u001b[0m \u001b[39mif\u001b[39;00m \u001b[39mnot\u001b[39;00m (\u001b[39mself\u001b[39m\u001b[39m.\u001b[39m_backward_hooks \u001b[39mor\u001b[39;00m \u001b[39mself\u001b[39m\u001b[39m.\u001b[39m_backward_pre_hooks \u001b[39mor\u001b[39;00m \u001b[39mself\u001b[39m\u001b[39m.\u001b[39m_forward_hooks \u001b[39mor\u001b[39;00m \u001b[39mself\u001b[39m\u001b[39m.\u001b[39m_forward_pre_hooks\n\u001b[1;32m   1499\u001b[0m         \u001b[39mor\u001b[39;00m _global_backward_pre_hooks \u001b[39mor\u001b[39;00m _global_backward_hooks\n\u001b[1;32m   1500\u001b[0m         \u001b[39mor\u001b[39;00m _global_forward_hooks \u001b[39mor\u001b[39;00m _global_forward_pre_hooks):\n\u001b[0;32m-> 1501\u001b[0m     \u001b[39mreturn\u001b[39;00m forward_call(\u001b[39m*\u001b[39;49margs, \u001b[39m*\u001b[39;49m\u001b[39m*\u001b[39;49mkwargs)\n\u001b[1;32m   1502\u001b[0m \u001b[39m# Do not call functions when jit is used\u001b[39;00m\n\u001b[1;32m   1503\u001b[0m full_backward_hooks, non_full_backward_hooks \u001b[39m=\u001b[39m [], []\n",
      "\u001b[1;32m/mnt/m/Code/VSCode/ayre/semantic-segmentation/segmentation-ai-experimentation.ipynb Cell 33\u001b[0m line \u001b[0;36m6\n\u001b[1;32m     <a href='vscode-notebook-cell://wsl%2Bubuntu/mnt/m/Code/VSCode/ayre/semantic-segmentation/segmentation-ai-experimentation.ipynb#X51sdnNjb2RlLXJlbW90ZQ%3D%3D?line=56'>57</a>\u001b[0m     \u001b[39mif\u001b[39;00m x\u001b[39m.\u001b[39mshape \u001b[39m!=\u001b[39m skip_connection\u001b[39m.\u001b[39mshape:\n\u001b[1;32m     <a href='vscode-notebook-cell://wsl%2Bubuntu/mnt/m/Code/VSCode/ayre/semantic-segmentation/segmentation-ai-experimentation.ipynb#X51sdnNjb2RlLXJlbW90ZQ%3D%3D?line=57'>58</a>\u001b[0m         x \u001b[39m=\u001b[39m resize(x, size\u001b[39m=\u001b[39mskip_connection\u001b[39m.\u001b[39mshape[\u001b[39m2\u001b[39m:], antialias\u001b[39m=\u001b[39m\u001b[39mTrue\u001b[39;00m)\n\u001b[0;32m---> <a href='vscode-notebook-cell://wsl%2Bubuntu/mnt/m/Code/VSCode/ayre/semantic-segmentation/segmentation-ai-experimentation.ipynb#X51sdnNjb2RlLXJlbW90ZQ%3D%3D?line=59'>60</a>\u001b[0m     concat_skip \u001b[39m=\u001b[39m torch\u001b[39m.\u001b[39;49mcat((skip_connection, x), dim\u001b[39m=\u001b[39;49m\u001b[39m1\u001b[39;49m)\n\u001b[1;32m     <a href='vscode-notebook-cell://wsl%2Bubuntu/mnt/m/Code/VSCode/ayre/semantic-segmentation/segmentation-ai-experimentation.ipynb#X51sdnNjb2RlLXJlbW90ZQ%3D%3D?line=60'>61</a>\u001b[0m     x \u001b[39m=\u001b[39m \u001b[39mself\u001b[39m\u001b[39m.\u001b[39mups[idx\u001b[39m+\u001b[39m\u001b[39m1\u001b[39m](concat_skip)\n\u001b[1;32m     <a href='vscode-notebook-cell://wsl%2Bubuntu/mnt/m/Code/VSCode/ayre/semantic-segmentation/segmentation-ai-experimentation.ipynb#X51sdnNjb2RlLXJlbW90ZQ%3D%3D?line=62'>63</a>\u001b[0m \u001b[39mreturn\u001b[39;00m \u001b[39mself\u001b[39m\u001b[39m.\u001b[39mfinal_conv(x)\n",
      "\u001b[0;31mOutOfMemoryError\u001b[0m: CUDA out of memory. Tried to allocate 324.00 MiB (GPU 0; 8.00 GiB total capacity; 21.82 GiB already allocated; 0 bytes free; 22.43 GiB reserved in total by PyTorch) If reserved memory is >> allocated memory try setting max_split_size_mb to avoid fragmentation.  See documentation for Memory Management and PYTORCH_CUDA_ALLOC_CONF"
     ]
    }
   ],
   "source": [
    "torch.cuda.empty_cache()\n",
    "save_path = os.path.join(\"./logs/\", \"segnet_basic_training_progress_images\")\n",
    "os.makedirs(save_path, exist_ok=True)\n",
    "train_x, train_y = next(iter(train_loader))\n",
    "print_test_dataset_masks(\n",
    "    model, train_x, train_y, epoch=0, save_path=None, show_plot=True\n",
    ")"
   ]
  },
  {
   "cell_type": "markdown",
   "metadata": {},
   "source": [
    "/DETOUR 2"
   ]
  },
  {
   "cell_type": "markdown",
   "metadata": {},
   "source": [
    "### Core training definition"
   ]
  },
  {
   "cell_type": "code",
   "execution_count": 21,
   "metadata": {},
   "outputs": [],
   "source": [
    "# Optimizer and Learning Rate Scheduler.\n",
    "to_device(model.train())\n",
    "optimizer = torch.optim.Adam(model.parameters(), lr=1e-4)\n",
    "scheduler = torch.optim.lr_scheduler.StepLR(optimizer, step_size=7, gamma=0.7)"
   ]
  },
  {
   "cell_type": "code",
   "execution_count": 22,
   "metadata": {},
   "outputs": [],
   "source": [
    "def train_loop(model, loader, test_loader, epochs, optimizer, scheduler, save_path):\n",
    "    epoch_i, epoch_j = epochs\n",
    "    for i in range(epoch_i, epoch_j):\n",
    "        epoch = i\n",
    "        print(f\"Epoch: {i:02d}, Learning Rate: {optimizer.param_groups[0]['lr']}\")\n",
    "        train_model(model, loader, optimizer, cel=False, epoch=epoch)\n",
    "        with torch.inference_mode():\n",
    "            test_inputs, test_targets = next(iter(test_loader))\n",
    "            print_test_dataset_masks(\n",
    "                model,\n",
    "                test_inputs,\n",
    "                test_targets,\n",
    "                epoch=epoch,\n",
    "                save_path=save_path,\n",
    "                show_plot=(epoch == epoch_j - 1),\n",
    "            )\n",
    "\n",
    "        if scheduler is not None:\n",
    "            scheduler.step()\n",
    "        print(\"\")"
   ]
  },
  {
   "cell_type": "code",
   "execution_count": 23,
   "metadata": {},
   "outputs": [
    {
     "name": "stdout",
     "output_type": "stream",
     "text": [
      "Epoch: 01, Learning Rate: 0.0001\n",
      "Trained 8 samples, Loss: 3.0519\n",
      "Epoch: 01, Accuracy[Pixel: 0.0000, IoU: 0.0000, Custom IoU: 0.0018]\n",
      "\n",
      "Epoch: 02, Learning Rate: 0.0001\n",
      "Trained 8 samples, Loss: 2.1283\n",
      "Epoch: 02, Accuracy[Pixel: 0.0000, IoU: 0.0000, Custom IoU: 0.0018]\n",
      "\n",
      "Epoch: 03, Learning Rate: 0.0001\n",
      "Trained 8 samples, Loss: 1.5775\n",
      "Epoch: 03, Accuracy[Pixel: 0.0000, IoU: 0.0000, Custom IoU: 0.0018]\n",
      "\n",
      "Epoch: 04, Learning Rate: 0.0001\n"
     ]
    },
    {
     "ename": "OutOfMemoryError",
     "evalue": "CUDA out of memory. Tried to allocate 2.26 GiB (GPU 0; 8.00 GiB total capacity; 18.31 GiB already allocated; 0 bytes free; 22.48 GiB reserved in total by PyTorch) If reserved memory is >> allocated memory try setting max_split_size_mb to avoid fragmentation.  See documentation for Memory Management and PYTORCH_CUDA_ALLOC_CONF",
     "output_type": "error",
     "traceback": [
      "\u001b[0;31m---------------------------------------------------------------------------\u001b[0m",
      "\u001b[0;31mOutOfMemoryError\u001b[0m                          Traceback (most recent call last)",
      "\u001b[1;32m/mnt/m/Code/VSCode/ayre/semantic-segmentation/segmentation-ai-experimentation.ipynb Cell 38\u001b[0m line \u001b[0;36m2\n\u001b[1;32m     <a href='vscode-notebook-cell://wsl%2Bubuntu/mnt/m/Code/VSCode/ayre/semantic-segmentation/segmentation-ai-experimentation.ipynb#X61sdnNjb2RlLXJlbW90ZQ%3D%3D?line=18'>19</a>\u001b[0m val_input, val_target \u001b[39m=\u001b[39m \u001b[39mnext\u001b[39m(\u001b[39miter\u001b[39m(val_loader))\n\u001b[1;32m     <a href='vscode-notebook-cell://wsl%2Bubuntu/mnt/m/Code/VSCode/ayre/semantic-segmentation/segmentation-ai-experimentation.ipynb#X61sdnNjb2RlLXJlbW90ZQ%3D%3D?line=19'>20</a>\u001b[0m save_path \u001b[39m=\u001b[39m os\u001b[39m.\u001b[39mpath\u001b[39m.\u001b[39mjoin(\u001b[39m\"\u001b[39m\u001b[39m./logs/\u001b[39m\u001b[39m\"\u001b[39m, \u001b[39m\"\u001b[39m\u001b[39msegnet_basic_training_progress_images\u001b[39m\u001b[39m\"\u001b[39m)\n\u001b[0;32m---> <a href='vscode-notebook-cell://wsl%2Bubuntu/mnt/m/Code/VSCode/ayre/semantic-segmentation/segmentation-ai-experimentation.ipynb#X61sdnNjb2RlLXJlbW90ZQ%3D%3D?line=20'>21</a>\u001b[0m train_loop(\n\u001b[1;32m     <a href='vscode-notebook-cell://wsl%2Bubuntu/mnt/m/Code/VSCode/ayre/semantic-segmentation/segmentation-ai-experimentation.ipynb#X61sdnNjb2RlLXJlbW90ZQ%3D%3D?line=21'>22</a>\u001b[0m     model,\n\u001b[1;32m     <a href='vscode-notebook-cell://wsl%2Bubuntu/mnt/m/Code/VSCode/ayre/semantic-segmentation/segmentation-ai-experimentation.ipynb#X61sdnNjb2RlLXJlbW90ZQ%3D%3D?line=22'>23</a>\u001b[0m     train_loader,\n\u001b[1;32m     <a href='vscode-notebook-cell://wsl%2Bubuntu/mnt/m/Code/VSCode/ayre/semantic-segmentation/segmentation-ai-experimentation.ipynb#X61sdnNjb2RlLXJlbW90ZQ%3D%3D?line=23'>24</a>\u001b[0m     val_loader,\n\u001b[1;32m     <a href='vscode-notebook-cell://wsl%2Bubuntu/mnt/m/Code/VSCode/ayre/semantic-segmentation/segmentation-ai-experimentation.ipynb#X61sdnNjb2RlLXJlbW90ZQ%3D%3D?line=24'>25</a>\u001b[0m     (\u001b[39m1\u001b[39;49m, \u001b[39m21\u001b[39;49m),\n\u001b[1;32m     <a href='vscode-notebook-cell://wsl%2Bubuntu/mnt/m/Code/VSCode/ayre/semantic-segmentation/segmentation-ai-experimentation.ipynb#X61sdnNjb2RlLXJlbW90ZQ%3D%3D?line=25'>26</a>\u001b[0m     optimizer,\n\u001b[1;32m     <a href='vscode-notebook-cell://wsl%2Bubuntu/mnt/m/Code/VSCode/ayre/semantic-segmentation/segmentation-ai-experimentation.ipynb#X61sdnNjb2RlLXJlbW90ZQ%3D%3D?line=26'>27</a>\u001b[0m     scheduler,\n\u001b[1;32m     <a href='vscode-notebook-cell://wsl%2Bubuntu/mnt/m/Code/VSCode/ayre/semantic-segmentation/segmentation-ai-experimentation.ipynb#X61sdnNjb2RlLXJlbW90ZQ%3D%3D?line=27'>28</a>\u001b[0m     save_path,\n\u001b[1;32m     <a href='vscode-notebook-cell://wsl%2Bubuntu/mnt/m/Code/VSCode/ayre/semantic-segmentation/segmentation-ai-experimentation.ipynb#X61sdnNjb2RlLXJlbW90ZQ%3D%3D?line=28'>29</a>\u001b[0m )\n",
      "\u001b[1;32m/mnt/m/Code/VSCode/ayre/semantic-segmentation/segmentation-ai-experimentation.ipynb Cell 38\u001b[0m line \u001b[0;36m6\n\u001b[1;32m      <a href='vscode-notebook-cell://wsl%2Bubuntu/mnt/m/Code/VSCode/ayre/semantic-segmentation/segmentation-ai-experimentation.ipynb#X61sdnNjb2RlLXJlbW90ZQ%3D%3D?line=3'>4</a>\u001b[0m epoch \u001b[39m=\u001b[39m i\n\u001b[1;32m      <a href='vscode-notebook-cell://wsl%2Bubuntu/mnt/m/Code/VSCode/ayre/semantic-segmentation/segmentation-ai-experimentation.ipynb#X61sdnNjb2RlLXJlbW90ZQ%3D%3D?line=4'>5</a>\u001b[0m \u001b[39mprint\u001b[39m(\u001b[39mf\u001b[39m\u001b[39m\"\u001b[39m\u001b[39mEpoch: \u001b[39m\u001b[39m{\u001b[39;00mi\u001b[39m:\u001b[39;00m\u001b[39m02d\u001b[39m\u001b[39m}\u001b[39;00m\u001b[39m, Learning Rate: \u001b[39m\u001b[39m{\u001b[39;00moptimizer\u001b[39m.\u001b[39mparam_groups[\u001b[39m0\u001b[39m][\u001b[39m'\u001b[39m\u001b[39mlr\u001b[39m\u001b[39m'\u001b[39m]\u001b[39m}\u001b[39;00m\u001b[39m\"\u001b[39m)\n\u001b[0;32m----> <a href='vscode-notebook-cell://wsl%2Bubuntu/mnt/m/Code/VSCode/ayre/semantic-segmentation/segmentation-ai-experimentation.ipynb#X61sdnNjb2RlLXJlbW90ZQ%3D%3D?line=5'>6</a>\u001b[0m train_model(model, loader, optimizer, cel\u001b[39m=\u001b[39;49m\u001b[39mFalse\u001b[39;49;00m, epoch\u001b[39m=\u001b[39;49mepoch)\n\u001b[1;32m      <a href='vscode-notebook-cell://wsl%2Bubuntu/mnt/m/Code/VSCode/ayre/semantic-segmentation/segmentation-ai-experimentation.ipynb#X61sdnNjb2RlLXJlbW90ZQ%3D%3D?line=6'>7</a>\u001b[0m \u001b[39mwith\u001b[39;00m torch\u001b[39m.\u001b[39minference_mode():\n\u001b[1;32m      <a href='vscode-notebook-cell://wsl%2Bubuntu/mnt/m/Code/VSCode/ayre/semantic-segmentation/segmentation-ai-experimentation.ipynb#X61sdnNjb2RlLXJlbW90ZQ%3D%3D?line=7'>8</a>\u001b[0m     test_inputs, test_targets \u001b[39m=\u001b[39m \u001b[39mnext\u001b[39m(\u001b[39miter\u001b[39m(test_loader))\n",
      "\u001b[1;32m/mnt/m/Code/VSCode/ayre/semantic-segmentation/segmentation-ai-experimentation.ipynb Cell 38\u001b[0m line \u001b[0;36m1\n\u001b[1;32m     <a href='vscode-notebook-cell://wsl%2Bubuntu/mnt/m/Code/VSCode/ayre/semantic-segmentation/segmentation-ai-experimentation.ipynb#X61sdnNjb2RlLXJlbW90ZQ%3D%3D?line=16'>17</a>\u001b[0m \u001b[39mif\u001b[39;00m cel:\n\u001b[1;32m     <a href='vscode-notebook-cell://wsl%2Bubuntu/mnt/m/Code/VSCode/ayre/semantic-segmentation/segmentation-ai-experimentation.ipynb#X61sdnNjb2RlLXJlbW90ZQ%3D%3D?line=17'>18</a>\u001b[0m     targets \u001b[39m=\u001b[39m targets\u001b[39m.\u001b[39msqueeze(dim\u001b[39m=\u001b[39m\u001b[39m1\u001b[39m)\n\u001b[0;32m---> <a href='vscode-notebook-cell://wsl%2Bubuntu/mnt/m/Code/VSCode/ayre/semantic-segmentation/segmentation-ai-experimentation.ipynb#X61sdnNjb2RlLXJlbW90ZQ%3D%3D?line=18'>19</a>\u001b[0m loss \u001b[39m=\u001b[39m criterion(predictions, targets)\n\u001b[1;32m     <a href='vscode-notebook-cell://wsl%2Bubuntu/mnt/m/Code/VSCode/ayre/semantic-segmentation/segmentation-ai-experimentation.ipynb#X61sdnNjb2RlLXJlbW90ZQ%3D%3D?line=20'>21</a>\u001b[0m \u001b[39m# The ground truth labels have a channel dimension (NCHW).\u001b[39;00m\n\u001b[1;32m     <a href='vscode-notebook-cell://wsl%2Bubuntu/mnt/m/Code/VSCode/ayre/semantic-segmentation/segmentation-ai-experimentation.ipynb#X61sdnNjb2RlLXJlbW90ZQ%3D%3D?line=21'>22</a>\u001b[0m \u001b[39m# We need to remove it before passing it into\u001b[39;00m\n\u001b[1;32m     <a href='vscode-notebook-cell://wsl%2Bubuntu/mnt/m/Code/VSCode/ayre/semantic-segmentation/segmentation-ai-experimentation.ipynb#X61sdnNjb2RlLXJlbW90ZQ%3D%3D?line=22'>23</a>\u001b[0m \u001b[39m# CrossEntropyLoss so that it has shape (NHW) and each element\u001b[39;00m\n\u001b[1;32m     <a href='vscode-notebook-cell://wsl%2Bubuntu/mnt/m/Code/VSCode/ayre/semantic-segmentation/segmentation-ai-experimentation.ipynb#X61sdnNjb2RlLXJlbW90ZQ%3D%3D?line=23'>24</a>\u001b[0m \u001b[39m# is a value representing the class of the pixel.\u001b[39;00m\n\u001b[1;32m     <a href='vscode-notebook-cell://wsl%2Bubuntu/mnt/m/Code/VSCode/ayre/semantic-segmentation/segmentation-ai-experimentation.ipynb#X61sdnNjb2RlLXJlbW90ZQ%3D%3D?line=24'>25</a>\u001b[0m loss\u001b[39m.\u001b[39mbackward()\n",
      "File \u001b[0;32m~/miniconda3/envs/nlp/lib/python3.10/site-packages/torch/nn/modules/module.py:1501\u001b[0m, in \u001b[0;36mModule._call_impl\u001b[0;34m(self, *args, **kwargs)\u001b[0m\n\u001b[1;32m   1496\u001b[0m \u001b[39m# If we don't have any hooks, we want to skip the rest of the logic in\u001b[39;00m\n\u001b[1;32m   1497\u001b[0m \u001b[39m# this function, and just call forward.\u001b[39;00m\n\u001b[1;32m   1498\u001b[0m \u001b[39mif\u001b[39;00m \u001b[39mnot\u001b[39;00m (\u001b[39mself\u001b[39m\u001b[39m.\u001b[39m_backward_hooks \u001b[39mor\u001b[39;00m \u001b[39mself\u001b[39m\u001b[39m.\u001b[39m_backward_pre_hooks \u001b[39mor\u001b[39;00m \u001b[39mself\u001b[39m\u001b[39m.\u001b[39m_forward_hooks \u001b[39mor\u001b[39;00m \u001b[39mself\u001b[39m\u001b[39m.\u001b[39m_forward_pre_hooks\n\u001b[1;32m   1499\u001b[0m         \u001b[39mor\u001b[39;00m _global_backward_pre_hooks \u001b[39mor\u001b[39;00m _global_backward_hooks\n\u001b[1;32m   1500\u001b[0m         \u001b[39mor\u001b[39;00m _global_forward_hooks \u001b[39mor\u001b[39;00m _global_forward_pre_hooks):\n\u001b[0;32m-> 1501\u001b[0m     \u001b[39mreturn\u001b[39;00m forward_call(\u001b[39m*\u001b[39;49margs, \u001b[39m*\u001b[39;49m\u001b[39m*\u001b[39;49mkwargs)\n\u001b[1;32m   1502\u001b[0m \u001b[39m# Do not call functions when jit is used\u001b[39;00m\n\u001b[1;32m   1503\u001b[0m full_backward_hooks, non_full_backward_hooks \u001b[39m=\u001b[39m [], []\n",
      "\u001b[1;32m/mnt/m/Code/VSCode/ayre/semantic-segmentation/segmentation-ai-experimentation.ipynb Cell 38\u001b[0m line \u001b[0;36m3\n\u001b[1;32m     <a href='vscode-notebook-cell://wsl%2Bubuntu/mnt/m/Code/VSCode/ayre/semantic-segmentation/segmentation-ai-experimentation.ipynb#X61sdnNjb2RlLXJlbW90ZQ%3D%3D?line=27'>28</a>\u001b[0m \u001b[39mdef\u001b[39;00m \u001b[39mforward\u001b[39m(\u001b[39mself\u001b[39m, pred, gt):\n\u001b[1;32m     <a href='vscode-notebook-cell://wsl%2Bubuntu/mnt/m/Code/VSCode/ayre/semantic-segmentation/segmentation-ai-experimentation.ipynb#X61sdnNjb2RlLXJlbW90ZQ%3D%3D?line=28'>29</a>\u001b[0m     \u001b[39m# return 1.0 - IoUMetric(pred, gt, self.softmax)\u001b[39;00m\n\u001b[1;32m     <a href='vscode-notebook-cell://wsl%2Bubuntu/mnt/m/Code/VSCode/ayre/semantic-segmentation/segmentation-ai-experimentation.ipynb#X61sdnNjb2RlLXJlbW90ZQ%3D%3D?line=29'>30</a>\u001b[0m     \u001b[39m# Compute the negative log loss for stable training.\u001b[39;00m\n\u001b[0;32m---> <a href='vscode-notebook-cell://wsl%2Bubuntu/mnt/m/Code/VSCode/ayre/semantic-segmentation/segmentation-ai-experimentation.ipynb#X61sdnNjb2RlLXJlbW90ZQ%3D%3D?line=30'>31</a>\u001b[0m     \u001b[39mreturn\u001b[39;00m \u001b[39m-\u001b[39m(IoUMetric(pred, gt, \u001b[39mself\u001b[39;49m\u001b[39m.\u001b[39;49msoftmax)\u001b[39m.\u001b[39mlog())\n",
      "\u001b[1;32m/mnt/m/Code/VSCode/ayre/semantic-segmentation/segmentation-ai-experimentation.ipynb Cell 38\u001b[0m line \u001b[0;36m1\n\u001b[1;32m      <a href='vscode-notebook-cell://wsl%2Bubuntu/mnt/m/Code/VSCode/ayre/semantic-segmentation/segmentation-ai-experimentation.ipynb#X61sdnNjb2RlLXJlbW90ZQ%3D%3D?line=8'>9</a>\u001b[0m gt \u001b[39m=\u001b[39m torch\u001b[39m.\u001b[39mcat([(gt \u001b[39m==\u001b[39m i) \u001b[39mfor\u001b[39;00m i \u001b[39min\u001b[39;00m \u001b[39mrange\u001b[39m(\u001b[39m150\u001b[39m)], dim\u001b[39m=\u001b[39m\u001b[39m1\u001b[39m)\u001b[39m.\u001b[39mto(\u001b[39m\"\u001b[39m\u001b[39mcuda\u001b[39m\u001b[39m\"\u001b[39m)\n\u001b[1;32m     <a href='vscode-notebook-cell://wsl%2Bubuntu/mnt/m/Code/VSCode/ayre/semantic-segmentation/segmentation-ai-experimentation.ipynb#X61sdnNjb2RlLXJlbW90ZQ%3D%3D?line=10'>11</a>\u001b[0m intersection \u001b[39m=\u001b[39m gt \u001b[39m*\u001b[39m pred\n\u001b[0;32m---> <a href='vscode-notebook-cell://wsl%2Bubuntu/mnt/m/Code/VSCode/ayre/semantic-segmentation/segmentation-ai-experimentation.ipynb#X61sdnNjb2RlLXJlbW90ZQ%3D%3D?line=11'>12</a>\u001b[0m union \u001b[39m=\u001b[39m gt \u001b[39m+\u001b[39;49m pred \u001b[39m-\u001b[39;49m intersection\n\u001b[1;32m     <a href='vscode-notebook-cell://wsl%2Bubuntu/mnt/m/Code/VSCode/ayre/semantic-segmentation/segmentation-ai-experimentation.ipynb#X61sdnNjb2RlLXJlbW90ZQ%3D%3D?line=13'>14</a>\u001b[0m \u001b[39m# Compute the sum over all the dimensions except for the batch dimension.\u001b[39;00m\n\u001b[1;32m     <a href='vscode-notebook-cell://wsl%2Bubuntu/mnt/m/Code/VSCode/ayre/semantic-segmentation/segmentation-ai-experimentation.ipynb#X61sdnNjb2RlLXJlbW90ZQ%3D%3D?line=14'>15</a>\u001b[0m iou \u001b[39m=\u001b[39m (intersection\u001b[39m.\u001b[39msum(dim\u001b[39m=\u001b[39m(\u001b[39m1\u001b[39m, \u001b[39m2\u001b[39m, \u001b[39m3\u001b[39m)) \u001b[39m+\u001b[39m \u001b[39m0.001\u001b[39m) \u001b[39m/\u001b[39m (union\u001b[39m.\u001b[39msum(dim\u001b[39m=\u001b[39m(\u001b[39m1\u001b[39m, \u001b[39m2\u001b[39m, \u001b[39m3\u001b[39m)) \u001b[39m+\u001b[39m \u001b[39m0.001\u001b[39m)\n",
      "\u001b[0;31mOutOfMemoryError\u001b[0m: CUDA out of memory. Tried to allocate 2.26 GiB (GPU 0; 8.00 GiB total capacity; 18.31 GiB already allocated; 0 bytes free; 22.48 GiB reserved in total by PyTorch) If reserved memory is >> allocated memory try setting max_split_size_mb to avoid fragmentation.  See documentation for Memory Management and PYTORCH_CUDA_ALLOC_CONF"
     ]
    }
   ],
   "source": [
    "# Train our model for 20 epochs, and record the following:\n",
    "#\n",
    "# 1. Training Loss\n",
    "# 2. Test accuracy metrics for a single batch of test images. The following\n",
    "#    metrics are computed:\n",
    "#   2.1. Pixel Accuracy\n",
    "#   2.2. IoU Accuracy (weighted)\n",
    "#   2.3. Custom IoU Accuracy\n",
    "#\n",
    "# We also plot the following for each image in the validation batch:\n",
    "# 1. Input image\n",
    "# 2. Ground truth segmentation mask\n",
    "# 3. Predicted segmentation mask\n",
    "#\n",
    "# so that we can visually inspect the model's progres and determine how well the model\n",
    "# is doing qualitatively. Note that the validation metrics on the set of 21 images in\n",
    "# the validation set is displayed inline in the notebook only for the last training\n",
    "# epoch.\n",
    "val_input, val_target = next(iter(val_loader))\n",
    "save_path = os.path.join(\"./logs/\", \"model-training-\" + datetime.datetime.now().strftime(\"%Y%m%d-%H%M%S\"))\n",
    "train_loop(\n",
    "    model,\n",
    "    train_loader,\n",
    "    val_loader,\n",
    "    (1, 21),\n",
    "    optimizer,\n",
    "    scheduler,\n",
    "    save_path,\n",
    ")"
   ]
  },
  {
   "cell_type": "code",
   "execution_count": 26,
   "metadata": {},
   "outputs": [],
   "source": [
    "checkpoint = {\n",
    "    \"state_dict\": model.state_dict(),\n",
    "    \"optimizer\": optimizer.state_dict(),\n",
    "}\n",
    "torch.save(checkpoint, './models/model1.pth')"
   ]
  }
 ],
 "metadata": {
  "kernelspec": {
   "display_name": "nlp",
   "language": "python",
   "name": "python3"
  },
  "language_info": {
   "codemirror_mode": {
    "name": "ipython",
    "version": 3
   },
   "file_extension": ".py",
   "mimetype": "text/x-python",
   "name": "python",
   "nbconvert_exporter": "python",
   "pygments_lexer": "ipython3",
   "version": "3.10.12"
  },
  "orig_nbformat": 4
 },
 "nbformat": 4,
 "nbformat_minor": 2
}
