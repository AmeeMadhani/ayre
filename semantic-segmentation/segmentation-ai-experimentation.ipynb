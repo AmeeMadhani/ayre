{
 "cells": [
  {
   "cell_type": "markdown",
   "metadata": {},
   "source": [
    "# Hopefully final notebook for semantic segmentation component"
   ]
  },
  {
   "cell_type": "code",
   "execution_count": 1,
   "metadata": {},
   "outputs": [
    {
     "data": {
      "text/plain": [
       "True"
      ]
     },
     "execution_count": 1,
     "metadata": {},
     "output_type": "execute_result"
    }
   ],
   "source": [
    "# entire code is being run on an Ubuntu kernel. \n",
    "# not many QoL libraries are needed.\n",
    "# your mileage may vary.\n",
    "import os\n",
    "import time\n",
    "import numpy as np\n",
    "import pandas as pd\n",
    "import matplotlib.pyplot as plt\n",
    "%matplotlib inline\n",
    "\n",
    "# dataset imports\n",
    "from torch.utils.data import Dataset, DataLoader\n",
    "from torchvision.io import read_image\n",
    "from torch.utils.data.dataloader import default_collate\n",
    "from PIL import Image\n",
    "# from torchvision.transforms import ToTensor, Resize, ToPILImage, Lambda\n",
    "import torchvision.transforms as transforms\n",
    "\n",
    "# AI imports\n",
    "from torch.nn import ConvTranspose2d, Conv2d, MaxPool2d, Module, ReLU, BatchNorm2d\n",
    "from torch.nn import ConvTranspose2d, Sequential, Upsample, Softmax, CrossEntropyLoss\n",
    "from torch.nn import functional as F\n",
    "from torchvision.utils import make_grid\n",
    "import torch\n",
    "\n",
    "# statistics\n",
    "from torchinfo import summary\n",
    "import torchmetrics as TM\n",
    "\n",
    "# test if GPU acceleration is working\n",
    "torch.cuda.is_available()"
   ]
  },
  {
   "cell_type": "markdown",
   "metadata": {},
   "source": [
    "## Standard Helper Functions"
   ]
  },
  {
   "cell_type": "code",
   "execution_count": 2,
   "metadata": {},
   "outputs": [
    {
     "name": "stdout",
     "output_type": "stream",
     "text": [
      "CUDA: True\n"
     ]
    }
   ],
   "source": [
    "def save_model_checkpoint(model, cp_name):\n",
    "    torch.save(model.state_dict(), os.path.join('./models/', cp_name))\n",
    "\n",
    "\n",
    "def get_device():\n",
    "    if torch.cuda.is_available():\n",
    "        return torch.device(\"cuda\")\n",
    "    else:\n",
    "        return torch.device(\"cpu\")\n",
    "\n",
    "# Load model from saved checkpoint\n",
    "def load_model_from_checkpoint(model, ckp_path):\n",
    "    return model.load_state_dict(\n",
    "        torch.load(\n",
    "            ckp_path,\n",
    "            map_location=get_device(),\n",
    "        )\n",
    "    )\n",
    "\n",
    "# Send the Tensor or Model (input argument x) to the right device\n",
    "# for this notebook. i.e. if GPU is enabled, then send to GPU/CUDA\n",
    "# otherwise send to CPU.\n",
    "def to_device(x):\n",
    "    if torch.cuda.is_available():\n",
    "        try:\n",
    "            return x.cuda()\n",
    "        except AttributeError:\n",
    "            return x\n",
    "    else:\n",
    "        return x.cpu()\n",
    "    \n",
    "def get_model_parameters(m):\n",
    "    total_params = sum(\n",
    "        param.numel() for param in m.parameters()\n",
    "    )\n",
    "    return total_params\n",
    "\n",
    "def print_model_parameters(m):\n",
    "    num_model_parameters = get_model_parameters(m)\n",
    "    print(f\"The Model has {num_model_parameters/1e6:.2f}M parameters\")\n",
    "# end if\n",
    "\n",
    "def close_figures():\n",
    "    while len(plt.get_fignums()) > 0:\n",
    "        plt.close()\n",
    "\n",
    "t2img = transforms.ToPILImage()\n",
    "\n",
    "# Validation: Check if CUDA is available\n",
    "print(f\"CUDA: {torch.cuda.is_available()}\")"
   ]
  },
  {
   "cell_type": "markdown",
   "metadata": {},
   "source": [
    "## Dataset Loading and Initialization"
   ]
  },
  {
   "cell_type": "code",
   "execution_count": 3,
   "metadata": {},
   "outputs": [],
   "source": [
    "# load in the ade20k pickle file to examine it.\n",
    "root = './ade20k/ADEChallengeData2016/'\n",
    "images_dir = f\"{root}/images\"\n",
    "annotations_dir = f\"{root}/annotations\"\n",
    "# with open(root + 'index_ade20k.pkl', 'rb') as f:\n",
    "#     index_ade20k = pickle.load(f)"
   ]
  },
  {
   "cell_type": "code",
   "execution_count": 4,
   "metadata": {},
   "outputs": [
    {
     "name": "stdout",
     "output_type": "stream",
     "text": [
      "20210\n",
      "20210\n"
     ]
    }
   ],
   "source": [
    "images_training_dir = f\"{images_dir}/training\"\n",
    "annotations_training_dir =  f\"{annotations_dir}/training\"\n",
    "\n",
    "images_validation_dir = f\"{images_dir}/validation\"\n",
    "annotations_validation_dir = f\"{annotations_dir}/validation\"\n",
    "\n",
    "training_images = sorted(os.listdir(images_training_dir))\n",
    "print(len(training_images))\n",
    "\n",
    "training_annotations = sorted(os.listdir(annotations_training_dir))\n",
    "print(len(training_annotations))"
   ]
  },
  {
   "cell_type": "code",
   "execution_count": 5,
   "metadata": {},
   "outputs": [],
   "source": [
    "class ADE20KDataset(Dataset):\n",
    "    def __init__(self, images_dir, annotations_dir, transforms=None):\n",
    "        self.images_dir = images_dir\n",
    "        self.annotations_dir = annotations_dir\n",
    "        self.transforms = transforms\n",
    "        self.image_files = sorted(os.listdir(images_dir))\n",
    "        self.mask_files = sorted(os.listdir(annotations_dir))\n",
    "\n",
    "    def __len__(self):\n",
    "        return len(self.image_files)\n",
    "\n",
    "    def __getitem__(self, idx):\n",
    "        image_filename = self.image_files[idx]\n",
    "        \n",
    "        img_name = os.path.join(self.images_dir, image_filename)\n",
    "        image = Image.open(img_name).convert(\"RGB\")\n",
    "        \n",
    "        # Generate the mask filename based on the image filename\n",
    "        mask_filename = image_filename.replace(\".jpg\", \".png\")\n",
    "        mask_name = os.path.join(self.annotations_dir, mask_filename)\n",
    "\n",
    "        mask = Image.open(mask_name)\n",
    "\n",
    "        if self.transforms:\n",
    "            image = self.transforms(image)\n",
    "            mask = self.transforms(mask)\n",
    "\n",
    "        return image, mask"
   ]
  },
  {
   "cell_type": "markdown",
   "metadata": {},
   "source": [
    "### DETOUR 1: Find a good size to scale all images to for all models moving forward"
   ]
  },
  {
   "cell_type": "code",
   "execution_count": 37,
   "metadata": {
    "slideshow": {
     "slide_type": "skip"
    }
   },
   "outputs": [],
   "source": [
    "img_h, img_w = np.zeros((len(training_images))), np.zeros((len(training_images)))\n",
    "for idx in range(len(training_images)):\n",
    "    timg = read_image(images_training_dir + '/' + training_images[idx])\n",
    "    img_h[idx] = timg.shape[1]\n",
    "    img_w[idx] = timg.shape[2]"
   ]
  },
  {
   "cell_type": "code",
   "execution_count": 39,
   "metadata": {
    "slideshow": {
     "slide_type": "skip"
    }
   },
   "outputs": [
    {
     "data": {
      "text/html": [
       "<div>\n",
       "<style scoped>\n",
       "    .dataframe tbody tr th:only-of-type {\n",
       "        vertical-align: middle;\n",
       "    }\n",
       "\n",
       "    .dataframe tbody tr th {\n",
       "        vertical-align: top;\n",
       "    }\n",
       "\n",
       "    .dataframe thead th {\n",
       "        text-align: right;\n",
       "    }\n",
       "</style>\n",
       "<table border=\"1\" class=\"dataframe\">\n",
       "  <thead>\n",
       "    <tr style=\"text-align: right;\">\n",
       "      <th></th>\n",
       "      <th>H</th>\n",
       "      <th>W</th>\n",
       "    </tr>\n",
       "  </thead>\n",
       "  <tbody>\n",
       "    <tr>\n",
       "      <th>count</th>\n",
       "      <td>20210.000000</td>\n",
       "      <td>20210.000000</td>\n",
       "    </tr>\n",
       "    <tr>\n",
       "      <th>mean</th>\n",
       "      <td>416.506977</td>\n",
       "      <td>515.995596</td>\n",
       "    </tr>\n",
       "    <tr>\n",
       "      <th>std</th>\n",
       "      <td>140.095244</td>\n",
       "      <td>194.645060</td>\n",
       "    </tr>\n",
       "    <tr>\n",
       "      <th>min</th>\n",
       "      <td>96.000000</td>\n",
       "      <td>130.000000</td>\n",
       "    </tr>\n",
       "    <tr>\n",
       "      <th>25%</th>\n",
       "      <td>256.000000</td>\n",
       "      <td>300.000000</td>\n",
       "    </tr>\n",
       "    <tr>\n",
       "      <th>50%</th>\n",
       "      <td>480.000000</td>\n",
       "      <td>512.000000</td>\n",
       "    </tr>\n",
       "    <tr>\n",
       "      <th>75%</th>\n",
       "      <td>512.000000</td>\n",
       "      <td>683.000000</td>\n",
       "    </tr>\n",
       "    <tr>\n",
       "      <th>max</th>\n",
       "      <td>2100.000000</td>\n",
       "      <td>2100.000000</td>\n",
       "    </tr>\n",
       "  </tbody>\n",
       "</table>\n",
       "</div>"
      ],
      "text/plain": [
       "                  H             W\n",
       "count  20210.000000  20210.000000\n",
       "mean     416.506977    515.995596\n",
       "std      140.095244    194.645060\n",
       "min       96.000000    130.000000\n",
       "25%      256.000000    300.000000\n",
       "50%      480.000000    512.000000\n",
       "75%      512.000000    683.000000\n",
       "max     2100.000000   2100.000000"
      ]
     },
     "execution_count": 39,
     "metadata": {},
     "output_type": "execute_result"
    }
   ],
   "source": [
    "image_size = pd.DataFrame({'H': img_h, 'W': img_w}, dtype='int')\n",
    "image_size.describe()"
   ]
  },
  {
   "cell_type": "code",
   "execution_count": 43,
   "metadata": {
    "slideshow": {
     "slide_type": "skip"
    }
   },
   "outputs": [],
   "source": [
    "image_size['ratio'] = image_size['H'] / image_size['W']"
   ]
  },
  {
   "cell_type": "code",
   "execution_count": 44,
   "metadata": {
    "slideshow": {
     "slide_type": "skip"
    }
   },
   "outputs": [
    {
     "data": {
      "text/html": [
       "<div>\n",
       "<style scoped>\n",
       "    .dataframe tbody tr th:only-of-type {\n",
       "        vertical-align: middle;\n",
       "    }\n",
       "\n",
       "    .dataframe tbody tr th {\n",
       "        vertical-align: top;\n",
       "    }\n",
       "\n",
       "    .dataframe thead th {\n",
       "        text-align: right;\n",
       "    }\n",
       "</style>\n",
       "<table border=\"1\" class=\"dataframe\">\n",
       "  <thead>\n",
       "    <tr style=\"text-align: right;\">\n",
       "      <th></th>\n",
       "      <th>H</th>\n",
       "      <th>W</th>\n",
       "      <th>ratio</th>\n",
       "    </tr>\n",
       "  </thead>\n",
       "  <tbody>\n",
       "    <tr>\n",
       "      <th>0</th>\n",
       "      <td>512</td>\n",
       "      <td>683</td>\n",
       "      <td>0.749634</td>\n",
       "    </tr>\n",
       "  </tbody>\n",
       "</table>\n",
       "</div>"
      ],
      "text/plain": [
       "     H    W     ratio\n",
       "0  512  683  0.749634"
      ]
     },
     "execution_count": 44,
     "metadata": {},
     "output_type": "execute_result"
    }
   ],
   "source": [
    "image_size.mode()"
   ]
  },
  {
   "cell_type": "code",
   "execution_count": 46,
   "metadata": {
    "slideshow": {
     "slide_type": "skip"
    }
   },
   "outputs": [
    {
     "data": {
      "text/plain": [
       "array([[<Axes: title={'center': 'H'}>, <Axes: title={'center': 'W'}>],\n",
       "       [<Axes: title={'center': 'ratio'}>, <Axes: >]], dtype=object)"
      ]
     },
     "execution_count": 46,
     "metadata": {},
     "output_type": "execute_result"
    },
    {
     "data": {
      "image/png": "[encoded data removed]",
      "text/plain": [
       "<Figure size 640x480 with 4 Axes>"
      ]
     },
     "metadata": {},
     "output_type": "display_data"
    }
   ],
   "source": [
    "image_size.hist()"
   ]
  },
  {
   "cell_type": "code",
   "execution_count": 48,
   "metadata": {
    "slideshow": {
     "slide_type": "skip"
    }
   },
   "outputs": [
    {
     "data": {
      "text/plain": [
       "900"
      ]
     },
     "execution_count": 48,
     "metadata": {},
     "output_type": "execute_result"
    }
   ],
   "source": [
    "image_size[image_size['H'] > 768].shape[0] + image_size[image_size['W'] > 768].shape[0]"
   ]
  },
  {
   "cell_type": "markdown",
   "metadata": {},
   "source": [
    "#### /DETOUR 1"
   ]
  },
  {
   "cell_type": "markdown",
   "metadata": {},
   "source": [
    "### Define custom parameters and create data loaders"
   ]
  },
  {
   "cell_type": "code",
   "execution_count": 6,
   "metadata": {},
   "outputs": [],
   "source": [
    "train_batch = 8\n",
    "test_batch = 2\n",
    "target_size = 386\n",
    "\n",
    "transform = transforms.Compose([\n",
    "    # transforms.ToPILImage(),\n",
    "    transforms.Resize((target_size)),\n",
    "    # add padding thing here based on the largest image ig\n",
    "    transforms.ToTensor()\n",
    "])\n",
    "\n",
    "def irregular_image_collate(batch):\n",
    "    inputs, targets = zip(*batch)\n",
    "\n",
    "    # Calculate the maximum height and width in the batch\n",
    "    max_height_input = max(img.size(1) for img in inputs)\n",
    "    max_width_input = max(img.size(2) for img in inputs)\n",
    "\n",
    "    max_height_target = max(img.size(1) for img in targets)\n",
    "    max_width_target = max(img.size(2) for img in targets)\n",
    "\n",
    "    # Calculate the maximum height and width across inputs and targets\n",
    "    max_height = max(max_height_input, max_height_target)\n",
    "    max_width = max(max_width_input, max_width_target)\n",
    "\n",
    "    # Pad each input and target image to the maximum size\n",
    "    padded_inputs = [F.pad(img, (0, max_width - img.size(2), 0, max_height - img.size(1))) for img in inputs]\n",
    "    padded_targets = [F.pad(img, (0, max_width - img.size(2), 0, max_height - img.size(1))) for img in targets]\n",
    "\n",
    "    # Stack the padded inputs and targets to create the batch\n",
    "    padded_inputs = torch.stack(padded_inputs, dim=0)\n",
    "    padded_targets = torch.stack(padded_targets, dim=0)\n",
    "\n",
    "    return padded_inputs, padded_targets\n"
   ]
  },
  {
   "cell_type": "code",
   "execution_count": 7,
   "metadata": {},
   "outputs": [],
   "source": [
    "train_dataset = ADE20KDataset(images_training_dir, annotations_training_dir, transforms=transform)\n",
    "train_loader = DataLoader(train_dataset, batch_size=8, shuffle=True, collate_fn=irregular_image_collate)\n",
    "\n",
    "val_dataset = ADE20KDataset(images_validation_dir, annotations_validation_dir, transforms=transform)\n",
    "val_loader = DataLoader(val_dataset, batch_size=8, shuffle=False, collate_fn=irregular_image_collate)"
   ]
  },
  {
   "cell_type": "markdown",
   "metadata": {},
   "source": [
    "## Test Dataloader"
   ]
  },
  {
   "cell_type": "code",
   "execution_count": 8,
   "metadata": {},
   "outputs": [],
   "source": [
    "def visualize_image_mask(image, mask):\n",
    "    plt.subplot(1,2,1)\n",
    "    plt.xticks([])\n",
    "    plt.yticks([])\n",
    "    plt.imshow(image.permute(1, 2, 0)) # for visualization we have to transpose back to HWC\n",
    "    plt.subplot(1,2,2)\n",
    "    # Turn off tick labels\n",
    "    plt.xticks([])\n",
    "    plt.yticks([])\n",
    "    plt.imshow(mask.permute(1, 2, 0))  # for visualization we have to remove 3rd dimension of mask\n",
    "    plt.show()"
   ]
  },
  {
   "cell_type": "code",
   "execution_count": 9,
   "metadata": {},
   "outputs": [
    {
     "name": "stdout",
     "output_type": "stream",
     "text": [
      "torch.Size([3, 386, 514])\n",
      "torch.Size([1, 386, 514])\n"
     ]
    }
   ],
   "source": [
    "image = train_dataset[0][0]\n",
    "mask = train_dataset[0][1]\n",
    "print(image.shape)\n",
    "print(mask.shape)"
   ]
  },
  {
   "cell_type": "code",
   "execution_count": 10,
   "metadata": {},
   "outputs": [
    {
     "data": {
      "image/png": "[encoded data removed]",
      "text/plain": [
       "<Figure size 640x480 with 2 Axes>"
      ]
     },
     "metadata": {},
     "output_type": "display_data"
    }
   ],
   "source": [
    "visualize_image_mask(image, mask)"
   ]
  },
  {
   "cell_type": "markdown",
   "metadata": {},
   "source": [
    "## Everything is in order, time to build the model and train it!"
   ]
  },
  {
   "cell_type": "markdown",
   "metadata": {},
   "source": [
    "## Model Definition"
   ]
  },
  {
   "cell_type": "code",
   "execution_count": 11,
   "metadata": {},
   "outputs": [],
   "source": [
    "class double_conv(Module):\n",
    "    \"\"\"(conv => BN => ReLU) * 2\"\"\"\n",
    "\n",
    "    def __init__(self, in_ch, out_ch):\n",
    "        super(double_conv, self).__init__()\n",
    "        self.conv = Sequential(\n",
    "            Conv2d(in_ch, out_ch, 3, padding=1),\n",
    "            BatchNorm2d(out_ch),\n",
    "            ReLU(inplace=True),\n",
    "            Conv2d(out_ch, out_ch, 3, padding=1),\n",
    "            BatchNorm2d(out_ch),\n",
    "            ReLU(inplace=True),\n",
    "        )\n",
    "\n",
    "    def forward(self, x):\n",
    "        x = self.conv(x)\n",
    "        return x\n",
    "\n",
    "\n",
    "class inconv(Module):\n",
    "    def __init__(self, in_ch, out_ch):\n",
    "        super(inconv, self).__init__()\n",
    "        self.conv = double_conv(in_ch, out_ch)\n",
    "\n",
    "    def forward(self, x):\n",
    "        x = self.conv(x)\n",
    "        return x\n",
    "\n",
    "\n",
    "class down(Module):\n",
    "    def __init__(self, in_ch, out_ch):\n",
    "        super(down, self).__init__()\n",
    "        self.mpconv = Sequential(MaxPool2d(2), double_conv(in_ch, out_ch))\n",
    "\n",
    "    def forward(self, x):\n",
    "        x = self.mpconv(x)\n",
    "        return x\n",
    "\n",
    "\n",
    "class up(Module):\n",
    "    def __init__(self, in_ch, out_ch, bilinear=True):\n",
    "        super(up, self).__init__()\n",
    "\n",
    "        if bilinear:\n",
    "            self.up = Upsample(scale_factor=2, mode=\"bilinear\", align_corners=True)\n",
    "        else:\n",
    "            self.up = ConvTranspose2d(in_ch // 2, in_ch // 2, 2, stride=2)\n",
    "\n",
    "        self.conv = double_conv(in_ch, out_ch)\n",
    "\n",
    "    def forward(self, x1, x2):\n",
    "        x1 = self.up(x1)\n",
    "\n",
    "        # input is CHW\n",
    "        diffY = x2.size()[2] - x1.size()[2]\n",
    "        diffX = x2.size()[3] - x1.size()[3]\n",
    "\n",
    "        x1 = F.pad(x1, (diffX // 2, diffX - diffX // 2, diffY // 2, diffY - diffY // 2))\n",
    "        \n",
    "        x = torch.cat([x2, x1], dim=1)\n",
    "        return self.conv(x)\n",
    "\n",
    "\n",
    "class outconv(Module):\n",
    "    def __init__(self, in_ch, out_ch):\n",
    "        super(outconv, self).__init__()\n",
    "        self.conv = Conv2d(in_ch, out_ch, 1)\n",
    "\n",
    "    def forward(self, x):\n",
    "        x = self.conv(x)\n",
    "        return x\n",
    "\n",
    "\n",
    "class UNet(Module):\n",
    "    def __init__(self, n_channels, n_classes):\n",
    "        super(UNet, self).__init__()\n",
    "        self.inc = inconv(n_channels, 64)\n",
    "        self.down1 = down(64, 128)\n",
    "        self.down2 = down(128, 256)\n",
    "        self.down3 = down(256, 512)\n",
    "        self.down4 = down(512, 512)\n",
    "        self.up1 = up(1024, 256, False)\n",
    "        self.up2 = up(512, 128, False)\n",
    "        self.up3 = up(256, 64, False)\n",
    "        self.up4 = up(128, 64, False)\n",
    "        self.outc = outconv(64, n_classes)\n",
    "\n",
    "    def forward(self, x):\n",
    "        x1 = self.inc(x)\n",
    "        x2 = self.down1(x1)\n",
    "        x3 = self.down2(x2)\n",
    "        x4 = self.down3(x3)\n",
    "        x5 = self.down4(x4)\n",
    "        x = self.up1(x5, x4)\n",
    "        x = self.up2(x, x3)\n",
    "        x = self.up3(x, x2)\n",
    "        x = self.up4(x, x1)\n",
    "        x = self.outc(x)\n",
    "        return torch.sigmoid(x)"
   ]
  },
  {
   "cell_type": "code",
   "execution_count": 12,
   "metadata": {},
   "outputs": [],
   "source": [
    "# initialise hyperparameters"
   ]
  },
  {
   "cell_type": "code",
   "execution_count": 13,
   "metadata": {},
   "outputs": [],
   "source": [
    "model = UNet(n_channels=3, n_classes=150).float()\n",
    "if torch.cuda.is_available():\n",
    "    model.cuda()"
   ]
  },
  {
   "cell_type": "code",
   "execution_count": 14,
   "metadata": {},
   "outputs": [
    {
     "data": {
      "text/plain": [
       "===============================================================================================\n",
       "Layer (type:depth-idx)                        Output Shape              Param #\n",
       "===============================================================================================\n",
       "UNet                                          [1, 150, 386, 386]        --\n",
       "├─inconv: 1-1                                 [1, 64, 386, 386]         --\n",
       "│    └─double_conv: 2-1                       [1, 64, 386, 386]         --\n",
       "│    │    └─Sequential: 3-1                   [1, 64, 386, 386]         38,976\n",
       "├─down: 1-2                                   [1, 128, 193, 193]        --\n",
       "│    └─Sequential: 2-2                        [1, 128, 193, 193]        --\n",
       "│    │    └─MaxPool2d: 3-2                    [1, 64, 193, 193]         --\n",
       "│    │    └─double_conv: 3-3                  [1, 128, 193, 193]        221,952\n",
       "├─down: 1-3                                   [1, 256, 96, 96]          --\n",
       "│    └─Sequential: 2-3                        [1, 256, 96, 96]          --\n",
       "│    │    └─MaxPool2d: 3-4                    [1, 128, 96, 96]          --\n",
       "│    │    └─double_conv: 3-5                  [1, 256, 96, 96]          886,272\n",
       "├─down: 1-4                                   [1, 512, 48, 48]          --\n",
       "│    └─Sequential: 2-4                        [1, 512, 48, 48]          --\n",
       "│    │    └─MaxPool2d: 3-6                    [1, 256, 48, 48]          --\n",
       "│    │    └─double_conv: 3-7                  [1, 512, 48, 48]          3,542,016\n",
       "├─down: 1-5                                   [1, 512, 24, 24]          --\n",
       "│    └─Sequential: 2-5                        [1, 512, 24, 24]          --\n",
       "│    │    └─MaxPool2d: 3-8                    [1, 512, 24, 24]          --\n",
       "│    │    └─double_conv: 3-9                  [1, 512, 24, 24]          4,721,664\n",
       "├─up: 1-6                                     [1, 256, 48, 48]          --\n",
       "│    └─ConvTranspose2d: 2-6                   [1, 512, 48, 48]          1,049,088\n",
       "│    └─double_conv: 2-7                       [1, 256, 48, 48]          --\n",
       "│    │    └─Sequential: 3-10                  [1, 256, 48, 48]          2,950,656\n",
       "├─up: 1-7                                     [1, 128, 96, 96]          --\n",
       "│    └─ConvTranspose2d: 2-8                   [1, 256, 96, 96]          262,400\n",
       "│    └─double_conv: 2-9                       [1, 128, 96, 96]          --\n",
       "│    │    └─Sequential: 3-11                  [1, 128, 96, 96]          738,048\n",
       "├─up: 1-8                                     [1, 64, 193, 193]         --\n",
       "│    └─ConvTranspose2d: 2-10                  [1, 128, 192, 192]        65,664\n",
       "│    └─double_conv: 2-11                      [1, 64, 193, 193]         --\n",
       "│    │    └─Sequential: 3-12                  [1, 64, 193, 193]         184,704\n",
       "├─up: 1-9                                     [1, 64, 386, 386]         --\n",
       "│    └─ConvTranspose2d: 2-12                  [1, 64, 386, 386]         16,448\n",
       "│    └─double_conv: 2-13                      [1, 64, 386, 386]         --\n",
       "│    │    └─Sequential: 3-13                  [1, 64, 386, 386]         110,976\n",
       "├─outconv: 1-10                               [1, 150, 386, 386]        --\n",
       "│    └─Conv2d: 2-14                           [1, 150, 386, 386]        9,750\n",
       "===============================================================================================\n",
       "Total params: 14,798,614\n",
       "Trainable params: 14,798,614\n",
       "Non-trainable params: 0\n",
       "Total mult-adds (G): 81.17\n",
       "===============================================================================================\n",
       "Input size (MB): 1.79\n",
       "Forward/backward pass size (MB): 1339.59\n",
       "Params size (MB): 59.19\n",
       "Estimated Total Size (MB): 1400.58\n",
       "==============================================================================================="
      ]
     },
     "execution_count": 14,
     "metadata": {},
     "output_type": "execute_result"
    }
   ],
   "source": [
    "summary(model, input_size=(1, 3, target_size, target_size))"
   ]
  },
  {
   "cell_type": "markdown",
   "metadata": {},
   "source": [
    "### IoU Loss Functions"
   ]
  },
  {
   "cell_type": "code",
   "execution_count": 15,
   "metadata": {},
   "outputs": [
    {
     "data": {
      "text/plain": [
       "tensor(5.7822, grad_fn=<NegBackward0>)"
      ]
     },
     "execution_count": 15,
     "metadata": {},
     "output_type": "execute_result"
    }
   ],
   "source": [
    "# Define a custom IoU Metric for validating the model.\n",
    "def IoUMetric(pred, gt, softmax=False):\n",
    "    # Run softmax if input is logits.\n",
    "    if softmax is True:\n",
    "        pred = Softmax(dim=1)(pred)\n",
    "    \n",
    "    # Add the one-hot encoded masks for all 3 output channels\n",
    "    # (for all the classes) to a tensor named 'gt' (ground truth).\n",
    "    gt = torch.cat([ (gt == i) for i in range(150) ], dim=1)\n",
    "\n",
    "    intersection = gt * pred\n",
    "    union = gt + pred - intersection\n",
    "\n",
    "    # Compute the sum over all the dimensions except for the batch dimension.\n",
    "    iou = (intersection.sum(dim=(1, 2, 3)) + 0.001) / (union.sum(dim=(1, 2, 3)) + 0.001)\n",
    "    \n",
    "    # Compute the mean over the batch dimension.\n",
    "    return iou.mean()\n",
    "\n",
    "class IoULoss(Module):\n",
    "    def __init__(self, softmax=False):\n",
    "        super().__init__()\n",
    "        self.softmax = softmax\n",
    "    \n",
    "    # pred => Predictions (logits, B, 3, H, W)\n",
    "    # gt => Ground Truth Labales (B, 1, H, W)\n",
    "    def forward(self, pred, gt):\n",
    "        # return 1.0 - IoUMetric(pred, gt, self.softmax)\n",
    "        # Compute the negative log loss for stable training.\n",
    "        return -(IoUMetric(pred, gt, self.softmax).log())\n",
    "\n",
    "def test_custom_iou_loss():\n",
    "    #               B, C, H, W\n",
    "    x = torch.rand((2, 150, 2, 2), requires_grad=True)\n",
    "    y = torch.randint(0, 3, (2, 1, 2, 2), dtype=torch.long)\n",
    "    z = IoULoss(softmax=True)(x, y)\n",
    "    return z\n",
    "\n",
    "test_custom_iou_loss()"
   ]
  },
  {
   "cell_type": "markdown",
   "metadata": {},
   "source": [
    "## Model Training"
   ]
  },
  {
   "cell_type": "code",
   "execution_count": 16,
   "metadata": {},
   "outputs": [],
   "source": [
    "# Train the model for a single epoch\n",
    "def train_model(model, loader, optimizer):\n",
    "    to_device(model.train())\n",
    "    cel = True\n",
    "    if cel:\n",
    "        criterion = CrossEntropyLoss(reduction='mean')\n",
    "    else:\n",
    "        criterion = IoULoss(softmax=True)\n",
    "\n",
    "    running_loss = 0.0\n",
    "    running_samples = 0\n",
    "    \n",
    "    for batch_idx, (inputs, targets) in enumerate(loader, 0):\n",
    "        optimizer.zero_grad()\n",
    "        inputs = to_device(inputs)\n",
    "        targets = to_device(targets)\n",
    "        outputs = model(inputs)\n",
    "        \n",
    "        # The ground truth labels have a channel dimension (NCHW).\n",
    "        # We need to remove it before passing it into\n",
    "        # CrossEntropyLoss so that it has shape (NHW) and each element\n",
    "        # is a value representing the class of the pixel.\n",
    "        if cel:\n",
    "            targets = targets.squeeze(dim=1)\n",
    "        loss = criterion(outputs, targets)\n",
    "        loss.backward()\n",
    "        optimizer.step()\n",
    "    \n",
    "        running_samples += targets.size(0)\n",
    "        running_loss += loss.item()\n",
    "\n",
    "    print(\"Trained {} samples, Loss: {:.4f}\".format(\n",
    "        running_samples,\n",
    "        running_loss / (batch_idx+1),\n",
    "    ))"
   ]
  },
  {
   "cell_type": "markdown",
   "metadata": {},
   "source": [
    "### Helper Functions"
   ]
  },
  {
   "cell_type": "code",
   "execution_count": 17,
   "metadata": {},
   "outputs": [],
   "source": [
    "def prediction_accuracy(ground_truth_labels, predicted_labels):\n",
    "    eq = ground_truth_labels == predicted_labels\n",
    "    return eq.sum().item() / predicted_labels.numel()\n",
    "    \n",
    "def print_test_dataset_masks(model, test_pets_targets, test_pets_labels, epoch, save_path, show_plot):\n",
    "    to_device(model.eval())\n",
    "    predictions = model(to_device(test_pets_targets))\n",
    "    test_pets_labels = to_device(test_pets_labels)\n",
    "    # print(\"Predictions Shape: {}\".format(predictions.shape))\n",
    "    pred = Softmax(dim=1)(predictions)\n",
    "\n",
    "    pred_labels = pred.argmax(dim=1)\n",
    "    # Add a value 1 dimension at dim=1\n",
    "    pred_labels = pred_labels.unsqueeze(1)\n",
    "    # print(\"pred_labels.shape: {}\".format(pred_labels.shape))\n",
    "    pred_mask = pred_labels.to(torch.float)\n",
    "    \n",
    "    # accuracy = prediction_accuracy(test_pets_labels, pred_labels)\n",
    "    iou = to_device(TM.classification.MulticlassJaccardIndex(150, average='micro'))\n",
    "    iou_accuracy = iou(pred_mask, test_pets_labels)\n",
    "    pixel_metric = to_device(TM.classification.MulticlassAccuracy(150, average='micro'))\n",
    "    pixel_accuracy = pixel_metric(pred_labels, test_pets_labels)\n",
    "    custom_iou = IoUMetric(pred, test_pets_labels)\n",
    "    title = f\"Epoch: {epoch:02d}, Accuracy[Pixel: {pixel_accuracy:.4f}, IoU: {iou_accuracy:.4f}, Custom IoU: {custom_iou:.4f}]\"\n",
    "    print(title)\n",
    "\n",
    "    # Close all previously open figures.\n",
    "    close_figures()\n",
    "    \n",
    "    fig = plt.figure(figsize=(10, 12))\n",
    "    fig.suptitle(title, fontsize=12)\n",
    "\n",
    "    fig.add_subplot(3, 1, 1)\n",
    "    plt.imshow(t2img(make_grid(test_pets_targets, nrow=7)))\n",
    "    plt.axis('off')\n",
    "    plt.title(\"Targets\")\n",
    "\n",
    "    fig.add_subplot(3, 1, 2)\n",
    "    plt.imshow(t2img(make_grid(test_pets_labels.float() / 2.0, nrow=7)))\n",
    "    plt.axis('off')\n",
    "    plt.title(\"Ground Truth Labels\")\n",
    "\n",
    "    fig.add_subplot(3, 1, 3)\n",
    "    plt.imshow(t2img(make_grid(pred_mask / 2.0, nrow=7)))\n",
    "    plt.axis('off')\n",
    "    plt.title(\"Predicted Labels\")\n",
    "    \n",
    "    if save_path is not None:\n",
    "        plt.savefig(os.path.join(save_path, f\"epoch_{epoch:02}.png\"), format=\"png\", bbox_inches=\"tight\", pad_inches=0.4)\n",
    "    \n",
    "    if show_plot is False:\n",
    "        close_figures()\n",
    "    else:\n",
    "        plt.show()"
   ]
  },
  {
   "cell_type": "code",
   "execution_count": 18,
   "metadata": {},
   "outputs": [],
   "source": [
    "def test_dataset_accuracy(model, loader):\n",
    "    model.eval()\n",
    "    iou = TM.classification.MulticlassJaccardIndex(3, average='micro')\n",
    "    pixel_metric = TM.classification.MulticlassAccuracy(3, average='micro')\n",
    "    \n",
    "    iou_accuracies = []\n",
    "    pixel_accuracies = []\n",
    "    custom_iou_accuracies = []\n",
    "    \n",
    "    print_model_parameters(model)\n",
    "\n",
    "    for batch_idx, (inputs, targets) in enumerate(loader, 0):\n",
    "        inputs = inputs\n",
    "        targets = targets\n",
    "        predictions = model(inputs)\n",
    "        \n",
    "        pred_probabilities = Softmax(dim=1)(predictions)\n",
    "        pred_labels = predictions.argmax(dim=1)\n",
    "\n",
    "        # Add a value 1 dimension at dim=1\n",
    "        pred_labels = pred_labels.unsqueeze(1)\n",
    "        # print(\"pred_labels.shape: {}\".format(pred_labels.shape))\n",
    "        pred_mask = pred_labels.to(torch.float)\n",
    "\n",
    "        iou_accuracy = iou(pred_mask, targets)\n",
    "        # pixel_accuracy = pixel_metric(pred_mask, targets)\n",
    "        pixel_accuracy = pixel_metric(pred_labels, targets)\n",
    "        custom_iou = IoUMetric(pred_probabilities, targets)\n",
    "        iou_accuracies.append(iou_accuracy.item())\n",
    "        pixel_accuracies.append(pixel_accuracy.item())\n",
    "        custom_iou_accuracies.append(custom_iou.item())\n",
    "        \n",
    "        del inputs\n",
    "        del targets\n",
    "        del predictions\n",
    "    # end for\n",
    "    \n",
    "    iou_tensor = torch.FloatTensor(iou_accuracies)\n",
    "    pixel_tensor = torch.FloatTensor(pixel_accuracies)\n",
    "    custom_iou_tensor = torch.FloatTensor(custom_iou_accuracies)\n",
    "    \n",
    "    print(\"Test Dataset Accuracy\")\n",
    "    print(f\"Pixel Accuracy: {pixel_tensor.mean():.4f}, IoU Accuracy: {iou_tensor.mean():.4f}, Custom IoU Accuracy: {custom_iou_tensor.mean():.4f}\")\n"
   ]
  },
  {
   "cell_type": "code",
   "execution_count": 19,
   "metadata": {},
   "outputs": [],
   "source": [
    "torch.cuda.empty_cache()\n",
    "save_path = os.path.join('./logs/', \"segnet_basic_training_progress_images\")\n",
    "os.makedirs(save_path, exist_ok=True)\n",
    "train_x, train_y = next(iter(train_loader))\n",
    "print_test_dataset_masks(model, train_x, train_y, epoch=0, save_path=None, show_plot=True)"
   ]
  }
 ],
 "metadata": {
  "kernelspec": {
   "display_name": "nlp",
   "language": "python",
   "name": "python3"
  },
  "language_info": {
   "codemirror_mode": {
    "name": "ipython",
    "version": 3
   },
   "file_extension": ".py",
   "mimetype": "text/x-python",
   "name": "python",
   "nbconvert_exporter": "python",
   "pygments_lexer": "ipython3",
   "version": "3.10.12"
  },
  "orig_nbformat": 4
 },
 "nbformat": 4,
 "nbformat_minor": 2
}
